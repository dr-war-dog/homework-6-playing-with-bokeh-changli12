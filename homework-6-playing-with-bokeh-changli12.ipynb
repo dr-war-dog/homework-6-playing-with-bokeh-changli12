{
 "cells": [
  {
   "cell_type": "code",
   "execution_count": 1,
   "metadata": {},
   "outputs": [
    {
     "name": "stdout",
     "output_type": "stream",
     "text": [
      "IPython - 6.4.0\n",
      "Pandas - 0.23.0\n",
      "Bokeh - 0.12.16\n"
     ]
    },
    {
     "data": {
      "text/html": [
       "\n",
       "    <div class=\"bk-root\">\n",
       "        <a href=\"https://bokeh.pydata.org\" target=\"_blank\" class=\"bk-logo bk-logo-small bk-logo-notebook\"></a>\n",
       "        <span id=\"01c3268b-9f66-4747-9ccc-67143e0dcb4d\">Loading BokehJS ...</span>\n",
       "    </div>"
      ]
     },
     "metadata": {},
     "output_type": "display_data"
    },
    {
     "data": {
      "application/javascript": [
       "\n",
       "(function(root) {\n",
       "  function now() {\n",
       "    return new Date();\n",
       "  }\n",
       "\n",
       "  var force = true;\n",
       "\n",
       "  if (typeof (root._bokeh_onload_callbacks) === \"undefined\" || force === true) {\n",
       "    root._bokeh_onload_callbacks = [];\n",
       "    root._bokeh_is_loading = undefined;\n",
       "  }\n",
       "\n",
       "  var JS_MIME_TYPE = 'application/javascript';\n",
       "  var HTML_MIME_TYPE = 'text/html';\n",
       "  var EXEC_MIME_TYPE = 'application/vnd.bokehjs_exec.v0+json';\n",
       "  var CLASS_NAME = 'output_bokeh rendered_html';\n",
       "\n",
       "  /**\n",
       "   * Render data to the DOM node\n",
       "   */\n",
       "  function render(props, node) {\n",
       "    var script = document.createElement(\"script\");\n",
       "    node.appendChild(script);\n",
       "  }\n",
       "\n",
       "  /**\n",
       "   * Handle when an output is cleared or removed\n",
       "   */\n",
       "  function handleClearOutput(event, handle) {\n",
       "    var cell = handle.cell;\n",
       "\n",
       "    var id = cell.output_area._bokeh_element_id;\n",
       "    var server_id = cell.output_area._bokeh_server_id;\n",
       "    // Clean up Bokeh references\n",
       "    if (id !== undefined) {\n",
       "      Bokeh.index[id].model.document.clear();\n",
       "      delete Bokeh.index[id];\n",
       "    }\n",
       "\n",
       "    if (server_id !== undefined) {\n",
       "      // Clean up Bokeh references\n",
       "      var cmd = \"from bokeh.io.state import curstate; print(curstate().uuid_to_server['\" + server_id + \"'].get_sessions()[0].document.roots[0]._id)\";\n",
       "      cell.notebook.kernel.execute(cmd, {\n",
       "        iopub: {\n",
       "          output: function(msg) {\n",
       "            var element_id = msg.content.text.trim();\n",
       "            Bokeh.index[element_id].model.document.clear();\n",
       "            delete Bokeh.index[element_id];\n",
       "          }\n",
       "        }\n",
       "      });\n",
       "      // Destroy server and session\n",
       "      var cmd = \"import bokeh.io.notebook as ion; ion.destroy_server('\" + server_id + \"')\";\n",
       "      cell.notebook.kernel.execute(cmd);\n",
       "    }\n",
       "  }\n",
       "\n",
       "  /**\n",
       "   * Handle when a new output is added\n",
       "   */\n",
       "  function handleAddOutput(event, handle) {\n",
       "    var output_area = handle.output_area;\n",
       "    var output = handle.output;\n",
       "\n",
       "    // limit handleAddOutput to display_data with EXEC_MIME_TYPE content only\n",
       "    if ((output.output_type != \"display_data\") || (!output.data.hasOwnProperty(EXEC_MIME_TYPE))) {\n",
       "      return\n",
       "    }\n",
       "\n",
       "    var toinsert = output_area.element.find(\".\" + CLASS_NAME.split(' ')[0]);\n",
       "\n",
       "    if (output.metadata[EXEC_MIME_TYPE][\"id\"] !== undefined) {\n",
       "      toinsert[toinsert.length - 1].firstChild.textContent = output.data[JS_MIME_TYPE];\n",
       "      // store reference to embed id on output_area\n",
       "      output_area._bokeh_element_id = output.metadata[EXEC_MIME_TYPE][\"id\"];\n",
       "    }\n",
       "    if (output.metadata[EXEC_MIME_TYPE][\"server_id\"] !== undefined) {\n",
       "      var bk_div = document.createElement(\"div\");\n",
       "      bk_div.innerHTML = output.data[HTML_MIME_TYPE];\n",
       "      var script_attrs = bk_div.children[0].attributes;\n",
       "      for (var i = 0; i < script_attrs.length; i++) {\n",
       "        toinsert[toinsert.length - 1].firstChild.setAttribute(script_attrs[i].name, script_attrs[i].value);\n",
       "      }\n",
       "      // store reference to server id on output_area\n",
       "      output_area._bokeh_server_id = output.metadata[EXEC_MIME_TYPE][\"server_id\"];\n",
       "    }\n",
       "  }\n",
       "\n",
       "  function register_renderer(events, OutputArea) {\n",
       "\n",
       "    function append_mime(data, metadata, element) {\n",
       "      // create a DOM node to render to\n",
       "      var toinsert = this.create_output_subarea(\n",
       "        metadata,\n",
       "        CLASS_NAME,\n",
       "        EXEC_MIME_TYPE\n",
       "      );\n",
       "      this.keyboard_manager.register_events(toinsert);\n",
       "      // Render to node\n",
       "      var props = {data: data, metadata: metadata[EXEC_MIME_TYPE]};\n",
       "      render(props, toinsert[toinsert.length - 1]);\n",
       "      element.append(toinsert);\n",
       "      return toinsert\n",
       "    }\n",
       "\n",
       "    /* Handle when an output is cleared or removed */\n",
       "    events.on('clear_output.CodeCell', handleClearOutput);\n",
       "    events.on('delete.Cell', handleClearOutput);\n",
       "\n",
       "    /* Handle when a new output is added */\n",
       "    events.on('output_added.OutputArea', handleAddOutput);\n",
       "\n",
       "    /**\n",
       "     * Register the mime type and append_mime function with output_area\n",
       "     */\n",
       "    OutputArea.prototype.register_mime_type(EXEC_MIME_TYPE, append_mime, {\n",
       "      /* Is output safe? */\n",
       "      safe: true,\n",
       "      /* Index of renderer in `output_area.display_order` */\n",
       "      index: 0\n",
       "    });\n",
       "  }\n",
       "\n",
       "  // register the mime type if in Jupyter Notebook environment and previously unregistered\n",
       "  if (root.Jupyter !== undefined) {\n",
       "    var events = require('base/js/events');\n",
       "    var OutputArea = require('notebook/js/outputarea').OutputArea;\n",
       "\n",
       "    if (OutputArea.prototype.mime_types().indexOf(EXEC_MIME_TYPE) == -1) {\n",
       "      register_renderer(events, OutputArea);\n",
       "    }\n",
       "  }\n",
       "\n",
       "  \n",
       "  if (typeof (root._bokeh_timeout) === \"undefined\" || force === true) {\n",
       "    root._bokeh_timeout = Date.now() + 5000;\n",
       "    root._bokeh_failed_load = false;\n",
       "  }\n",
       "\n",
       "  var NB_LOAD_WARNING = {'data': {'text/html':\n",
       "     \"<div style='background-color: #fdd'>\\n\"+\n",
       "     \"<p>\\n\"+\n",
       "     \"BokehJS does not appear to have successfully loaded. If loading BokehJS from CDN, this \\n\"+\n",
       "     \"may be due to a slow or bad network connection. Possible fixes:\\n\"+\n",
       "     \"</p>\\n\"+\n",
       "     \"<ul>\\n\"+\n",
       "     \"<li>re-rerun `output_notebook()` to attempt to load from CDN again, or</li>\\n\"+\n",
       "     \"<li>use INLINE resources instead, as so:</li>\\n\"+\n",
       "     \"</ul>\\n\"+\n",
       "     \"<code>\\n\"+\n",
       "     \"from bokeh.resources import INLINE\\n\"+\n",
       "     \"output_notebook(resources=INLINE)\\n\"+\n",
       "     \"</code>\\n\"+\n",
       "     \"</div>\"}};\n",
       "\n",
       "  function display_loaded() {\n",
       "    var el = document.getElementById(\"01c3268b-9f66-4747-9ccc-67143e0dcb4d\");\n",
       "    if (el != null) {\n",
       "      el.textContent = \"BokehJS is loading...\";\n",
       "    }\n",
       "    if (root.Bokeh !== undefined) {\n",
       "      if (el != null) {\n",
       "        el.textContent = \"BokehJS \" + root.Bokeh.version + \" successfully loaded.\";\n",
       "      }\n",
       "    } else if (Date.now() < root._bokeh_timeout) {\n",
       "      setTimeout(display_loaded, 100)\n",
       "    }\n",
       "  }\n",
       "\n",
       "\n",
       "  function run_callbacks() {\n",
       "    try {\n",
       "      root._bokeh_onload_callbacks.forEach(function(callback) { callback() });\n",
       "    }\n",
       "    finally {\n",
       "      delete root._bokeh_onload_callbacks\n",
       "    }\n",
       "    console.info(\"Bokeh: all callbacks have finished\");\n",
       "  }\n",
       "\n",
       "  function load_libs(js_urls, callback) {\n",
       "    root._bokeh_onload_callbacks.push(callback);\n",
       "    if (root._bokeh_is_loading > 0) {\n",
       "      console.log(\"Bokeh: BokehJS is being loaded, scheduling callback at\", now());\n",
       "      return null;\n",
       "    }\n",
       "    if (js_urls == null || js_urls.length === 0) {\n",
       "      run_callbacks();\n",
       "      return null;\n",
       "    }\n",
       "    console.log(\"Bokeh: BokehJS not loaded, scheduling load and callback at\", now());\n",
       "    root._bokeh_is_loading = js_urls.length;\n",
       "    for (var i = 0; i < js_urls.length; i++) {\n",
       "      var url = js_urls[i];\n",
       "      var s = document.createElement('script');\n",
       "      s.src = url;\n",
       "      s.async = false;\n",
       "      s.onreadystatechange = s.onload = function() {\n",
       "        root._bokeh_is_loading--;\n",
       "        if (root._bokeh_is_loading === 0) {\n",
       "          console.log(\"Bokeh: all BokehJS libraries loaded\");\n",
       "          run_callbacks()\n",
       "        }\n",
       "      };\n",
       "      s.onerror = function() {\n",
       "        console.warn(\"failed to load library \" + url);\n",
       "      };\n",
       "      console.log(\"Bokeh: injecting script tag for BokehJS library: \", url);\n",
       "      document.getElementsByTagName(\"head\")[0].appendChild(s);\n",
       "    }\n",
       "  };var element = document.getElementById(\"01c3268b-9f66-4747-9ccc-67143e0dcb4d\");\n",
       "  if (element == null) {\n",
       "    console.log(\"Bokeh: ERROR: autoload.js configured with elementid '01c3268b-9f66-4747-9ccc-67143e0dcb4d' but no matching script tag was found. \")\n",
       "    return false;\n",
       "  }\n",
       "\n",
       "  var js_urls = [\"https://cdn.pydata.org/bokeh/release/bokeh-0.12.16.min.js\", \"https://cdn.pydata.org/bokeh/release/bokeh-widgets-0.12.16.min.js\", \"https://cdn.pydata.org/bokeh/release/bokeh-tables-0.12.16.min.js\", \"https://cdn.pydata.org/bokeh/release/bokeh-gl-0.12.16.min.js\"];\n",
       "\n",
       "  var inline_js = [\n",
       "    function(Bokeh) {\n",
       "      Bokeh.set_log_level(\"info\");\n",
       "    },\n",
       "    \n",
       "    function(Bokeh) {\n",
       "      \n",
       "    },\n",
       "    function(Bokeh) {\n",
       "      console.log(\"Bokeh: injecting CSS: https://cdn.pydata.org/bokeh/release/bokeh-0.12.16.min.css\");\n",
       "      Bokeh.embed.inject_css(\"https://cdn.pydata.org/bokeh/release/bokeh-0.12.16.min.css\");\n",
       "      console.log(\"Bokeh: injecting CSS: https://cdn.pydata.org/bokeh/release/bokeh-widgets-0.12.16.min.css\");\n",
       "      Bokeh.embed.inject_css(\"https://cdn.pydata.org/bokeh/release/bokeh-widgets-0.12.16.min.css\");\n",
       "      console.log(\"Bokeh: injecting CSS: https://cdn.pydata.org/bokeh/release/bokeh-tables-0.12.16.min.css\");\n",
       "      Bokeh.embed.inject_css(\"https://cdn.pydata.org/bokeh/release/bokeh-tables-0.12.16.min.css\");\n",
       "    }\n",
       "  ];\n",
       "\n",
       "  function run_inline_js() {\n",
       "    \n",
       "    if ((root.Bokeh !== undefined) || (force === true)) {\n",
       "      for (var i = 0; i < inline_js.length; i++) {\n",
       "        inline_js[i].call(root, root.Bokeh);\n",
       "      }if (force === true) {\n",
       "        display_loaded();\n",
       "      }} else if (Date.now() < root._bokeh_timeout) {\n",
       "      setTimeout(run_inline_js, 100);\n",
       "    } else if (!root._bokeh_failed_load) {\n",
       "      console.log(\"Bokeh: BokehJS failed to load within specified timeout.\");\n",
       "      root._bokeh_failed_load = true;\n",
       "    } else if (force !== true) {\n",
       "      var cell = $(document.getElementById(\"01c3268b-9f66-4747-9ccc-67143e0dcb4d\")).parents('.cell').data().cell;\n",
       "      cell.output_area.append_execute_result(NB_LOAD_WARNING)\n",
       "    }\n",
       "\n",
       "  }\n",
       "\n",
       "  if (root._bokeh_is_loading === 0) {\n",
       "    console.log(\"Bokeh: BokehJS loaded, going straight to plotting\");\n",
       "    run_inline_js();\n",
       "  } else {\n",
       "    load_libs(js_urls, function() {\n",
       "      console.log(\"Bokeh: BokehJS plotting callback run at\", now());\n",
       "      run_inline_js();\n",
       "    });\n",
       "  }\n",
       "}(window));"
      ],
      "application/vnd.bokehjs_load.v0+json": "\n(function(root) {\n  function now() {\n    return new Date();\n  }\n\n  var force = true;\n\n  if (typeof (root._bokeh_onload_callbacks) === \"undefined\" || force === true) {\n    root._bokeh_onload_callbacks = [];\n    root._bokeh_is_loading = undefined;\n  }\n\n  \n\n  \n  if (typeof (root._bokeh_timeout) === \"undefined\" || force === true) {\n    root._bokeh_timeout = Date.now() + 5000;\n    root._bokeh_failed_load = false;\n  }\n\n  var NB_LOAD_WARNING = {'data': {'text/html':\n     \"<div style='background-color: #fdd'>\\n\"+\n     \"<p>\\n\"+\n     \"BokehJS does not appear to have successfully loaded. If loading BokehJS from CDN, this \\n\"+\n     \"may be due to a slow or bad network connection. Possible fixes:\\n\"+\n     \"</p>\\n\"+\n     \"<ul>\\n\"+\n     \"<li>re-rerun `output_notebook()` to attempt to load from CDN again, or</li>\\n\"+\n     \"<li>use INLINE resources instead, as so:</li>\\n\"+\n     \"</ul>\\n\"+\n     \"<code>\\n\"+\n     \"from bokeh.resources import INLINE\\n\"+\n     \"output_notebook(resources=INLINE)\\n\"+\n     \"</code>\\n\"+\n     \"</div>\"}};\n\n  function display_loaded() {\n    var el = document.getElementById(\"01c3268b-9f66-4747-9ccc-67143e0dcb4d\");\n    if (el != null) {\n      el.textContent = \"BokehJS is loading...\";\n    }\n    if (root.Bokeh !== undefined) {\n      if (el != null) {\n        el.textContent = \"BokehJS \" + root.Bokeh.version + \" successfully loaded.\";\n      }\n    } else if (Date.now() < root._bokeh_timeout) {\n      setTimeout(display_loaded, 100)\n    }\n  }\n\n\n  function run_callbacks() {\n    try {\n      root._bokeh_onload_callbacks.forEach(function(callback) { callback() });\n    }\n    finally {\n      delete root._bokeh_onload_callbacks\n    }\n    console.info(\"Bokeh: all callbacks have finished\");\n  }\n\n  function load_libs(js_urls, callback) {\n    root._bokeh_onload_callbacks.push(callback);\n    if (root._bokeh_is_loading > 0) {\n      console.log(\"Bokeh: BokehJS is being loaded, scheduling callback at\", now());\n      return null;\n    }\n    if (js_urls == null || js_urls.length === 0) {\n      run_callbacks();\n      return null;\n    }\n    console.log(\"Bokeh: BokehJS not loaded, scheduling load and callback at\", now());\n    root._bokeh_is_loading = js_urls.length;\n    for (var i = 0; i < js_urls.length; i++) {\n      var url = js_urls[i];\n      var s = document.createElement('script');\n      s.src = url;\n      s.async = false;\n      s.onreadystatechange = s.onload = function() {\n        root._bokeh_is_loading--;\n        if (root._bokeh_is_loading === 0) {\n          console.log(\"Bokeh: all BokehJS libraries loaded\");\n          run_callbacks()\n        }\n      };\n      s.onerror = function() {\n        console.warn(\"failed to load library \" + url);\n      };\n      console.log(\"Bokeh: injecting script tag for BokehJS library: \", url);\n      document.getElementsByTagName(\"head\")[0].appendChild(s);\n    }\n  };var element = document.getElementById(\"01c3268b-9f66-4747-9ccc-67143e0dcb4d\");\n  if (element == null) {\n    console.log(\"Bokeh: ERROR: autoload.js configured with elementid '01c3268b-9f66-4747-9ccc-67143e0dcb4d' but no matching script tag was found. \")\n    return false;\n  }\n\n  var js_urls = [\"https://cdn.pydata.org/bokeh/release/bokeh-0.12.16.min.js\", \"https://cdn.pydata.org/bokeh/release/bokeh-widgets-0.12.16.min.js\", \"https://cdn.pydata.org/bokeh/release/bokeh-tables-0.12.16.min.js\", \"https://cdn.pydata.org/bokeh/release/bokeh-gl-0.12.16.min.js\"];\n\n  var inline_js = [\n    function(Bokeh) {\n      Bokeh.set_log_level(\"info\");\n    },\n    \n    function(Bokeh) {\n      \n    },\n    function(Bokeh) {\n      console.log(\"Bokeh: injecting CSS: https://cdn.pydata.org/bokeh/release/bokeh-0.12.16.min.css\");\n      Bokeh.embed.inject_css(\"https://cdn.pydata.org/bokeh/release/bokeh-0.12.16.min.css\");\n      console.log(\"Bokeh: injecting CSS: https://cdn.pydata.org/bokeh/release/bokeh-widgets-0.12.16.min.css\");\n      Bokeh.embed.inject_css(\"https://cdn.pydata.org/bokeh/release/bokeh-widgets-0.12.16.min.css\");\n      console.log(\"Bokeh: injecting CSS: https://cdn.pydata.org/bokeh/release/bokeh-tables-0.12.16.min.css\");\n      Bokeh.embed.inject_css(\"https://cdn.pydata.org/bokeh/release/bokeh-tables-0.12.16.min.css\");\n    }\n  ];\n\n  function run_inline_js() {\n    \n    if ((root.Bokeh !== undefined) || (force === true)) {\n      for (var i = 0; i < inline_js.length; i++) {\n        inline_js[i].call(root, root.Bokeh);\n      }if (force === true) {\n        display_loaded();\n      }} else if (Date.now() < root._bokeh_timeout) {\n      setTimeout(run_inline_js, 100);\n    } else if (!root._bokeh_failed_load) {\n      console.log(\"Bokeh: BokehJS failed to load within specified timeout.\");\n      root._bokeh_failed_load = true;\n    } else if (force !== true) {\n      var cell = $(document.getElementById(\"01c3268b-9f66-4747-9ccc-67143e0dcb4d\")).parents('.cell').data().cell;\n      cell.output_area.append_execute_result(NB_LOAD_WARNING)\n    }\n\n  }\n\n  if (root._bokeh_is_loading === 0) {\n    console.log(\"Bokeh: BokehJS loaded, going straight to plotting\");\n    run_inline_js();\n  } else {\n    load_libs(js_urls, function() {\n      console.log(\"Bokeh: BokehJS plotting callback run at\", now());\n      run_inline_js();\n    });\n  }\n}(window));"
     },
     "metadata": {},
     "output_type": "display_data"
    }
   ],
   "source": [
    "from IPython import __version__ as ipython_version\n",
    "from pandas import __version__ as pandas_version\n",
    "from bokeh import __version__ as bokeh_version\n",
    "print(\"IPython - %s\" % ipython_version)\n",
    "print(\"Pandas - %s\" % pandas_version)\n",
    "print(\"Bokeh - %s\" % bokeh_version)\n",
    "from bokeh.io import output_notebook, show\n",
    "output_notebook()"
   ]
  },
  {
   "cell_type": "code",
   "execution_count": 2,
   "metadata": {},
   "outputs": [],
   "source": [
    "from bokeh.models import ColumnDataSource, HoverTool\n",
    "from bokeh.plotting import figure\n",
    "import pandas as pd\n",
    "import numpy as np"
   ]
  },
  {
   "cell_type": "code",
   "execution_count": 3,
   "metadata": {
    "scrolled": true
   },
   "outputs": [],
   "source": [
    "data= pd.read_csv(\"data/HSall_parties.csv\")\n",
    "president_demo=0\n",
    "house_demo=0\n",
    "senate_demo=0\n",
    "president_repu=0\n",
    "house_repu=0\n",
    "senate_repu=0\n",
    "president_indi=0\n",
    "house_indi=0\n",
    "senate_indi=0\n",
    "for index,row in data.iterrows():\n",
    "    if row['party_name']=='Democrat' and row['chamber']=='President' :\n",
    "        president_demo+=row['n_members']\n",
    "    if row['party_name']=='Democrat' and row['chamber']=='House' :\n",
    "        house_demo+=row['n_members']\n",
    "    if row['party_name']=='Democrat' and row['chamber']=='Senate' :\n",
    "        senate_demo+=row['n_members']\n",
    "    if row['party_name']=='Republican' and row['chamber']=='President' :\n",
    "        president_repu+=row['n_members']\n",
    "    if row['party_name']=='Republican' and row['chamber']=='House' :\n",
    "        house_repu+=row['n_members']\n",
    "    if row['party_name']=='Republican' and row['chamber']=='Senate' :\n",
    "        senate_repu+=row['n_members']\n",
    "    if row['party_name']=='Independent' and row['chamber']=='President' :\n",
    "        president_indi+=row['n_members']\n",
    "    if row['party_name']=='Independent' and row['chamber']=='House' :\n",
    "        house_indi+=row['n_members']\n",
    "    if row['party_name']=='Independent' and row['chamber']=='Senate' :\n",
    "        senate_indi+=row['n_members']\n",
    "\n"
   ]
  },
  {
   "cell_type": "code",
   "execution_count": 4,
   "metadata": {},
   "outputs": [
    {
     "data": {
      "text/html": [
       "\n",
       "<div class=\"bk-root\">\n",
       "    <div class=\"bk-plotdiv\" id=\"fb6a45d5-713f-494a-8a93-78d568a529a2\"></div>\n",
       "</div>"
      ]
     },
     "metadata": {},
     "output_type": "display_data"
    },
    {
     "data": {
      "application/javascript": [
       "(function(root) {\n",
       "  function embed_document(root) {\n",
       "    \n",
       "  var docs_json = {\"b8e169a4-1b70-4229-b17b-23801b9d0373\":{\"roots\":{\"references\":[{\"attributes\":{\"fill_color\":{\"value\":\"#1f77b4\"},\"line_color\":{\"value\":\"#1f77b4\"},\"top\":{\"field\":\"top\"},\"width\":{\"value\":0.9},\"x\":{\"field\":\"x\"}},\"id\":\"c277c9db-6313-4233-8708-c5991037e7a9\",\"type\":\"VBar\"},{\"attributes\":{},\"id\":\"e6bd2249-a42c-4785-97c3-c811024cb4c5\",\"type\":\"Selection\"},{\"attributes\":{\"formatter\":{\"id\":\"4b803334-bc90-483d-bff6-ded71f3e7256\",\"type\":\"CategoricalTickFormatter\"},\"plot\":{\"id\":\"ca3f1f09-ce0b-407e-9756-ffbecd9dcb50\",\"subtype\":\"Figure\",\"type\":\"Plot\"},\"ticker\":{\"id\":\"5c2426ee-a503-4280-bb58-df9079041f7c\",\"type\":\"CategoricalTicker\"}},\"id\":\"3721a8d1-c7bf-4b51-a3b2-188d66788d7a\",\"type\":\"CategoricalAxis\"},{\"attributes\":{},\"id\":\"fdbf773f-79a1-4e50-afff-9c043bdd3b5f\",\"type\":\"UnionRenderers\"},{\"attributes\":{\"plot\":null,\"text\":\"Presidents Counts\"},\"id\":\"170a24e7-30db-4579-966b-d49dfc941f9d\",\"type\":\"Title\"},{\"attributes\":{\"source\":{\"id\":\"836dc20a-adcf-484c-af91-52e005a29943\",\"type\":\"ColumnDataSource\"}},\"id\":\"264bd58e-be0b-4d35-b853-f2551cac5c06\",\"type\":\"CDSView\"},{\"attributes\":{\"below\":[{\"id\":\"3721a8d1-c7bf-4b51-a3b2-188d66788d7a\",\"type\":\"CategoricalAxis\"}],\"left\":[{\"id\":\"07dc7407-33f1-464b-b5f2-92d9f38cff8a\",\"type\":\"LinearAxis\"}],\"plot_height\":500,\"renderers\":[{\"id\":\"3721a8d1-c7bf-4b51-a3b2-188d66788d7a\",\"type\":\"CategoricalAxis\"},{\"id\":\"16465223-b22a-4f5e-aeb6-905b591a8cbd\",\"type\":\"Grid\"},{\"id\":\"07dc7407-33f1-464b-b5f2-92d9f38cff8a\",\"type\":\"LinearAxis\"},{\"id\":\"49092954-31cd-4684-a5b6-b4db2d7cef45\",\"type\":\"Grid\"},{\"id\":\"4a638b81-6045-4280-b720-d2db6d0bc3c1\",\"type\":\"BoxAnnotation\"},{\"id\":\"907525e0-01a1-48d5-92e3-67006e6fea72\",\"type\":\"GlyphRenderer\"}],\"title\":{\"id\":\"170a24e7-30db-4579-966b-d49dfc941f9d\",\"type\":\"Title\"},\"toolbar\":{\"id\":\"945482c2-9c9a-4bf0-9092-1f2a4262e6b4\",\"type\":\"Toolbar\"},\"x_range\":{\"id\":\"294d5389-376d-43b6-be09-32a72d0f920c\",\"type\":\"FactorRange\"},\"x_scale\":{\"id\":\"d650131f-4ccf-479c-af3a-c75907da4dd6\",\"type\":\"CategoricalScale\"},\"y_range\":{\"id\":\"b99df43f-48a4-4e96-955a-7966e6d031f5\",\"type\":\"DataRange1d\"},\"y_scale\":{\"id\":\"aabb9aa2-e805-4e23-b040-cf29bb75247f\",\"type\":\"LinearScale\"}},\"id\":\"ca3f1f09-ce0b-407e-9756-ffbecd9dcb50\",\"subtype\":\"Figure\",\"type\":\"Plot\"},{\"attributes\":{},\"id\":\"c8081e70-4cef-462b-ab6c-987c40648a56\",\"type\":\"BasicTickFormatter\"},{\"attributes\":{\"callback\":null,\"data\":{\"top\":[9,11,0],\"x\":[\"President\",\"House\",\"Senate\"]},\"selected\":{\"id\":\"e6bd2249-a42c-4785-97c3-c811024cb4c5\",\"type\":\"Selection\"},\"selection_policy\":{\"id\":\"fdbf773f-79a1-4e50-afff-9c043bdd3b5f\",\"type\":\"UnionRenderers\"}},\"id\":\"836dc20a-adcf-484c-af91-52e005a29943\",\"type\":\"ColumnDataSource\"},{\"attributes\":{},\"id\":\"4b803334-bc90-483d-bff6-ded71f3e7256\",\"type\":\"CategoricalTickFormatter\"},{\"attributes\":{\"data_source\":{\"id\":\"836dc20a-adcf-484c-af91-52e005a29943\",\"type\":\"ColumnDataSource\"},\"glyph\":{\"id\":\"c277c9db-6313-4233-8708-c5991037e7a9\",\"type\":\"VBar\"},\"hover_glyph\":null,\"muted_glyph\":null,\"nonselection_glyph\":{\"id\":\"f49bc748-bcfe-4ff2-93d6-e17e76425d90\",\"type\":\"VBar\"},\"selection_glyph\":null,\"view\":{\"id\":\"264bd58e-be0b-4d35-b853-f2551cac5c06\",\"type\":\"CDSView\"}},\"id\":\"907525e0-01a1-48d5-92e3-67006e6fea72\",\"type\":\"GlyphRenderer\"},{\"attributes\":{\"callback\":null,\"start\":0},\"id\":\"b99df43f-48a4-4e96-955a-7966e6d031f5\",\"type\":\"DataRange1d\"},{\"attributes\":{\"active_drag\":\"auto\",\"active_inspect\":\"auto\",\"active_scroll\":\"auto\",\"active_tap\":\"auto\",\"tools\":[{\"id\":\"addaf7c7-391e-41a4-9a11-6452eae5790e\",\"type\":\"PanTool\"},{\"id\":\"a9920305-a1c5-4db5-bb55-44de07d6d2fc\",\"type\":\"WheelZoomTool\"},{\"id\":\"f704aea2-8333-44d7-90b3-24465fef6bdf\",\"type\":\"BoxZoomTool\"},{\"id\":\"7d9ed013-f645-4f60-9910-381dda5f2d9f\",\"type\":\"SaveTool\"},{\"id\":\"306e9292-b65e-4a3f-9432-6c65ec4988e9\",\"type\":\"ResetTool\"},{\"id\":\"51c25251-8aa0-423b-bd8d-e3ffb91e53aa\",\"type\":\"HelpTool\"}]},\"id\":\"945482c2-9c9a-4bf0-9092-1f2a4262e6b4\",\"type\":\"Toolbar\"},{\"attributes\":{\"dimension\":1,\"plot\":{\"id\":\"ca3f1f09-ce0b-407e-9756-ffbecd9dcb50\",\"subtype\":\"Figure\",\"type\":\"Plot\"},\"ticker\":{\"id\":\"bfb65fbd-e8c7-4885-91a6-52bc7a4228d4\",\"type\":\"BasicTicker\"}},\"id\":\"49092954-31cd-4684-a5b6-b4db2d7cef45\",\"type\":\"Grid\"},{\"attributes\":{},\"id\":\"a9920305-a1c5-4db5-bb55-44de07d6d2fc\",\"type\":\"WheelZoomTool\"},{\"attributes\":{\"callback\":null,\"factors\":[\"President\",\"House\",\"Senate\"]},\"id\":\"294d5389-376d-43b6-be09-32a72d0f920c\",\"type\":\"FactorRange\"},{\"attributes\":{},\"id\":\"aabb9aa2-e805-4e23-b040-cf29bb75247f\",\"type\":\"LinearScale\"},{\"attributes\":{},\"id\":\"addaf7c7-391e-41a4-9a11-6452eae5790e\",\"type\":\"PanTool\"},{\"attributes\":{\"bottom_units\":\"screen\",\"fill_alpha\":{\"value\":0.5},\"fill_color\":{\"value\":\"lightgrey\"},\"left_units\":\"screen\",\"level\":\"overlay\",\"line_alpha\":{\"value\":1.0},\"line_color\":{\"value\":\"black\"},\"line_dash\":[4,4],\"line_width\":{\"value\":2},\"plot\":null,\"render_mode\":\"css\",\"right_units\":\"screen\",\"top_units\":\"screen\"},\"id\":\"4a638b81-6045-4280-b720-d2db6d0bc3c1\",\"type\":\"BoxAnnotation\"},{\"attributes\":{},\"id\":\"d650131f-4ccf-479c-af3a-c75907da4dd6\",\"type\":\"CategoricalScale\"},{\"attributes\":{},\"id\":\"306e9292-b65e-4a3f-9432-6c65ec4988e9\",\"type\":\"ResetTool\"},{\"attributes\":{},\"id\":\"7d9ed013-f645-4f60-9910-381dda5f2d9f\",\"type\":\"SaveTool\"},{\"attributes\":{\"formatter\":{\"id\":\"c8081e70-4cef-462b-ab6c-987c40648a56\",\"type\":\"BasicTickFormatter\"},\"plot\":{\"id\":\"ca3f1f09-ce0b-407e-9756-ffbecd9dcb50\",\"subtype\":\"Figure\",\"type\":\"Plot\"},\"ticker\":{\"id\":\"bfb65fbd-e8c7-4885-91a6-52bc7a4228d4\",\"type\":\"BasicTicker\"}},\"id\":\"07dc7407-33f1-464b-b5f2-92d9f38cff8a\",\"type\":\"LinearAxis\"},{\"attributes\":{\"overlay\":{\"id\":\"4a638b81-6045-4280-b720-d2db6d0bc3c1\",\"type\":\"BoxAnnotation\"}},\"id\":\"f704aea2-8333-44d7-90b3-24465fef6bdf\",\"type\":\"BoxZoomTool\"},{\"attributes\":{},\"id\":\"5c2426ee-a503-4280-bb58-df9079041f7c\",\"type\":\"CategoricalTicker\"},{\"attributes\":{\"fill_alpha\":{\"value\":0.1},\"fill_color\":{\"value\":\"#1f77b4\"},\"line_alpha\":{\"value\":0.1},\"line_color\":{\"value\":\"#1f77b4\"},\"top\":{\"field\":\"top\"},\"width\":{\"value\":0.9},\"x\":{\"field\":\"x\"}},\"id\":\"f49bc748-bcfe-4ff2-93d6-e17e76425d90\",\"type\":\"VBar\"},{\"attributes\":{},\"id\":\"bfb65fbd-e8c7-4885-91a6-52bc7a4228d4\",\"type\":\"BasicTicker\"},{\"attributes\":{},\"id\":\"51c25251-8aa0-423b-bd8d-e3ffb91e53aa\",\"type\":\"HelpTool\"},{\"attributes\":{\"grid_line_color\":{\"value\":null},\"plot\":{\"id\":\"ca3f1f09-ce0b-407e-9756-ffbecd9dcb50\",\"subtype\":\"Figure\",\"type\":\"Plot\"},\"ticker\":{\"id\":\"5c2426ee-a503-4280-bb58-df9079041f7c\",\"type\":\"CategoricalTicker\"}},\"id\":\"16465223-b22a-4f5e-aeb6-905b591a8cbd\",\"type\":\"Grid\"}],\"root_ids\":[\"ca3f1f09-ce0b-407e-9756-ffbecd9dcb50\"]},\"title\":\"Bokeh Application\",\"version\":\"0.12.16\"}};\n",
       "  var render_items = [{\"docid\":\"b8e169a4-1b70-4229-b17b-23801b9d0373\",\"elementid\":\"fb6a45d5-713f-494a-8a93-78d568a529a2\",\"modelid\":\"ca3f1f09-ce0b-407e-9756-ffbecd9dcb50\"}];\n",
       "  root.Bokeh.embed.embed_items_notebook(docs_json, render_items);\n",
       "\n",
       "  }\n",
       "  if (root.Bokeh !== undefined) {\n",
       "    embed_document(root);\n",
       "  } else {\n",
       "    var attempts = 0;\n",
       "    var timer = setInterval(function(root) {\n",
       "      if (root.Bokeh !== undefined) {\n",
       "        embed_document(root);\n",
       "        clearInterval(timer);\n",
       "      }\n",
       "      attempts++;\n",
       "      if (attempts > 100) {\n",
       "        console.log(\"Bokeh: ERROR: Unable to run BokehJS code because BokehJS library is missing\")\n",
       "        clearInterval(timer);\n",
       "      }\n",
       "    }, 10, root)\n",
       "  }\n",
       "})(window);"
      ],
      "application/vnd.bokehjs_exec.v0+json": ""
     },
     "metadata": {
      "application/vnd.bokehjs_exec.v0+json": {
       "id": "ca3f1f09-ce0b-407e-9756-ffbecd9dcb50"
      }
     },
     "output_type": "display_data"
    }
   ],
   "source": [
    "chambers = ['President', 'House', 'Senate']\n",
    "\n",
    "p = figure(x_range=chambers, plot_height=500, title=\"Presidents Counts\")\n",
    "\n",
    "p.vbar(x=chambers, top=[president_demo,president_repu,president_indi], width=0.9)\n",
    "\n",
    "p.xgrid.grid_line_color = None\n",
    "p.y_range.start = 0\n",
    "show(p)"
   ]
  },
  {
   "cell_type": "code",
   "execution_count": 5,
   "metadata": {},
   "outputs": [
    {
     "data": {
      "text/html": [
       "\n",
       "<div class=\"bk-root\">\n",
       "    <div class=\"bk-plotdiv\" id=\"39468961-a44f-4fd8-9738-3bd1a87473ef\"></div>\n",
       "</div>"
      ]
     },
     "metadata": {},
     "output_type": "display_data"
    },
    {
     "data": {
      "application/javascript": [
       "(function(root) {\n",
       "  function embed_document(root) {\n",
       "    \n",
       "  var docs_json = {\"7d2b4d85-0d00-4b70-b171-d10fa6470d20\":{\"roots\":{\"references\":[{\"attributes\":{},\"id\":\"8c5c8393-9432-45c6-855a-fff226809516\",\"type\":\"BasicTicker\"},{\"attributes\":{\"dimension\":1,\"plot\":{\"id\":\"ffe0a4c5-a770-497f-8074-95e46d7f0c9f\",\"subtype\":\"Figure\",\"type\":\"Plot\"},\"ticker\":{\"id\":\"8c5c8393-9432-45c6-855a-fff226809516\",\"type\":\"BasicTicker\"}},\"id\":\"07d1ba75-b1b3-47ac-90b9-dd22dfcb77bd\",\"type\":\"Grid\"},{\"attributes\":{},\"id\":\"d68f6d7a-8cb7-4c66-8912-9e3ec4bdc757\",\"type\":\"BasicTickFormatter\"},{\"attributes\":{\"fill_alpha\":{\"value\":0.1},\"fill_color\":{\"value\":\"#1f77b4\"},\"line_alpha\":{\"value\":0.1},\"line_color\":{\"value\":\"#1f77b4\"},\"top\":{\"field\":\"counts\"},\"width\":{\"value\":0.9},\"x\":{\"field\":\"x\"}},\"id\":\"452195d3-5609-4890-a9c1-604e18ae4ecb\",\"type\":\"VBar\"},{\"attributes\":{\"callback\":null,\"data\":{\"counts\":[9,11,0,12.27670601989243,12.07815080773465,3.4594316186372978,10.088788238716907,10.026523442519766,4.0],\"x\":[[\"President\",\"Democrat\"],[\"President\",\"Republican\"],[\"President\",\"Independent\"],[\"House\",\"Democrat\"],[\"House\",\"Republican\"],[\"House\",\"Independent\"],[\"Senate\",\"Democrat\"],[\"Senate\",\"Republican\"],[\"Senate\",\"Independent\"]]},\"selected\":{\"id\":\"5d5f24d7-d081-42e9-b2d4-19f5605bee99\",\"type\":\"Selection\"},\"selection_policy\":{\"id\":\"d4abd88a-7266-4c08-8991-7bf1123d2487\",\"type\":\"UnionRenderers\"}},\"id\":\"1bd19f16-2c48-4e66-836f-1ffe3c9b5d29\",\"type\":\"ColumnDataSource\"},{\"attributes\":{\"formatter\":{\"id\":\"58c1146a-6898-4c62-9cae-f91ac4963d80\",\"type\":\"CategoricalTickFormatter\"},\"major_label_orientation\":1,\"plot\":{\"id\":\"ffe0a4c5-a770-497f-8074-95e46d7f0c9f\",\"subtype\":\"Figure\",\"type\":\"Plot\"},\"ticker\":{\"id\":\"0b7e99f6-0b79-44a6-a120-1fe478fa7d0d\",\"type\":\"CategoricalTicker\"}},\"id\":\"0bcb3542-b0cf-445a-89f0-41c9a0063c9d\",\"type\":\"CategoricalAxis\"},{\"attributes\":{\"callback\":null,\"factors\":[[\"President\",\"Democrat\"],[\"President\",\"Republican\"],[\"President\",\"Independent\"],[\"House\",\"Democrat\"],[\"House\",\"Republican\"],[\"House\",\"Independent\"],[\"Senate\",\"Democrat\"],[\"Senate\",\"Republican\"],[\"Senate\",\"Independent\"]],\"range_padding\":0.1},\"id\":\"537ba05d-8004-465b-92ed-6467230520ba\",\"type\":\"FactorRange\"},{\"attributes\":{},\"id\":\"58c1146a-6898-4c62-9cae-f91ac4963d80\",\"type\":\"CategoricalTickFormatter\"},{\"attributes\":{\"bottom_units\":\"screen\",\"fill_alpha\":{\"value\":0.5},\"fill_color\":{\"value\":\"lightgrey\"},\"left_units\":\"screen\",\"level\":\"overlay\",\"line_alpha\":{\"value\":1.0},\"line_color\":{\"value\":\"black\"},\"line_dash\":[4,4],\"line_width\":{\"value\":2},\"plot\":null,\"render_mode\":\"css\",\"right_units\":\"screen\",\"top_units\":\"screen\"},\"id\":\"8f36d599-1441-4455-a810-664466ce7bf5\",\"type\":\"BoxAnnotation\"},{\"attributes\":{},\"id\":\"8ca44333-9603-47a3-b49d-654f6d17095c\",\"type\":\"PanTool\"},{\"attributes\":{\"below\":[{\"id\":\"0bcb3542-b0cf-445a-89f0-41c9a0063c9d\",\"type\":\"CategoricalAxis\"}],\"left\":[{\"id\":\"541652bb-3750-4b6b-8d80-48cdf30f4164\",\"type\":\"LinearAxis\"}],\"plot_height\":500,\"renderers\":[{\"id\":\"0bcb3542-b0cf-445a-89f0-41c9a0063c9d\",\"type\":\"CategoricalAxis\"},{\"id\":\"6b4b5e61-1fa4-4b54-9239-61214eb0a798\",\"type\":\"Grid\"},{\"id\":\"541652bb-3750-4b6b-8d80-48cdf30f4164\",\"type\":\"LinearAxis\"},{\"id\":\"07d1ba75-b1b3-47ac-90b9-dd22dfcb77bd\",\"type\":\"Grid\"},{\"id\":\"8f36d599-1441-4455-a810-664466ce7bf5\",\"type\":\"BoxAnnotation\"},{\"id\":\"f6227af8-bc7d-4fb9-856b-59d36eb9c35e\",\"type\":\"GlyphRenderer\"}],\"title\":{\"id\":\"c978a2e3-eb48-4893-a1b2-2686f5938018\",\"type\":\"Title\"},\"toolbar\":{\"id\":\"63c5531f-eb5a-4ad4-be1a-38e12c1d1a98\",\"type\":\"Toolbar\"},\"x_range\":{\"id\":\"537ba05d-8004-465b-92ed-6467230520ba\",\"type\":\"FactorRange\"},\"x_scale\":{\"id\":\"ef8d896f-11f6-4b1a-9ae8-7f1c880c857c\",\"type\":\"CategoricalScale\"},\"y_range\":{\"id\":\"ebd31376-b208-46f6-8e39-2a403c6270dc\",\"type\":\"DataRange1d\"},\"y_scale\":{\"id\":\"a6844a01-cef7-4a2c-a408-31af72088156\",\"type\":\"LinearScale\"}},\"id\":\"ffe0a4c5-a770-497f-8074-95e46d7f0c9f\",\"subtype\":\"Figure\",\"type\":\"Plot\"},{\"attributes\":{\"data_source\":{\"id\":\"1bd19f16-2c48-4e66-836f-1ffe3c9b5d29\",\"type\":\"ColumnDataSource\"},\"glyph\":{\"id\":\"f91a8e08-b223-4f1b-8395-8986f12c96a8\",\"type\":\"VBar\"},\"hover_glyph\":null,\"muted_glyph\":null,\"nonselection_glyph\":{\"id\":\"452195d3-5609-4890-a9c1-604e18ae4ecb\",\"type\":\"VBar\"},\"selection_glyph\":null,\"view\":{\"id\":\"ba35d010-f80b-4e7a-a45b-47be391997f5\",\"type\":\"CDSView\"}},\"id\":\"f6227af8-bc7d-4fb9-856b-59d36eb9c35e\",\"type\":\"GlyphRenderer\"},{\"attributes\":{},\"id\":\"5d5f24d7-d081-42e9-b2d4-19f5605bee99\",\"type\":\"Selection\"},{\"attributes\":{},\"id\":\"8ec78888-5aed-490c-80c9-7d079345a742\",\"type\":\"WheelZoomTool\"},{\"attributes\":{\"overlay\":{\"id\":\"8f36d599-1441-4455-a810-664466ce7bf5\",\"type\":\"BoxAnnotation\"}},\"id\":\"eec2c18e-47a3-4545-8e1e-b4f69c96bedd\",\"type\":\"BoxZoomTool\"},{\"attributes\":{\"grid_line_color\":{\"value\":null},\"plot\":{\"id\":\"ffe0a4c5-a770-497f-8074-95e46d7f0c9f\",\"subtype\":\"Figure\",\"type\":\"Plot\"},\"ticker\":{\"id\":\"0b7e99f6-0b79-44a6-a120-1fe478fa7d0d\",\"type\":\"CategoricalTicker\"}},\"id\":\"6b4b5e61-1fa4-4b54-9239-61214eb0a798\",\"type\":\"Grid\"},{\"attributes\":{},\"id\":\"4a324c05-0224-4b4d-842a-8c8e9c90912e\",\"type\":\"SaveTool\"},{\"attributes\":{\"plot\":null,\"text\":\"Chamber Counts by Parites\"},\"id\":\"c978a2e3-eb48-4893-a1b2-2686f5938018\",\"type\":\"Title\"},{\"attributes\":{},\"id\":\"b9921896-a1fc-4cc0-a4c1-159dd6f4dbb8\",\"type\":\"ResetTool\"},{\"attributes\":{\"active_drag\":\"auto\",\"active_inspect\":\"auto\",\"active_scroll\":\"auto\",\"active_tap\":\"auto\",\"tools\":[{\"id\":\"8ca44333-9603-47a3-b49d-654f6d17095c\",\"type\":\"PanTool\"},{\"id\":\"8ec78888-5aed-490c-80c9-7d079345a742\",\"type\":\"WheelZoomTool\"},{\"id\":\"eec2c18e-47a3-4545-8e1e-b4f69c96bedd\",\"type\":\"BoxZoomTool\"},{\"id\":\"4a324c05-0224-4b4d-842a-8c8e9c90912e\",\"type\":\"SaveTool\"},{\"id\":\"b9921896-a1fc-4cc0-a4c1-159dd6f4dbb8\",\"type\":\"ResetTool\"},{\"id\":\"044d5240-4fc5-4b6e-a1e8-e211bd764c7c\",\"type\":\"HelpTool\"}]},\"id\":\"63c5531f-eb5a-4ad4-be1a-38e12c1d1a98\",\"type\":\"Toolbar\"},{\"attributes\":{},\"id\":\"a6844a01-cef7-4a2c-a408-31af72088156\",\"type\":\"LinearScale\"},{\"attributes\":{},\"id\":\"044d5240-4fc5-4b6e-a1e8-e211bd764c7c\",\"type\":\"HelpTool\"},{\"attributes\":{\"callback\":null,\"start\":0},\"id\":\"ebd31376-b208-46f6-8e39-2a403c6270dc\",\"type\":\"DataRange1d\"},{\"attributes\":{},\"id\":\"d4abd88a-7266-4c08-8991-7bf1123d2487\",\"type\":\"UnionRenderers\"},{\"attributes\":{},\"id\":\"ef8d896f-11f6-4b1a-9ae8-7f1c880c857c\",\"type\":\"CategoricalScale\"},{\"attributes\":{\"source\":{\"id\":\"1bd19f16-2c48-4e66-836f-1ffe3c9b5d29\",\"type\":\"ColumnDataSource\"}},\"id\":\"ba35d010-f80b-4e7a-a45b-47be391997f5\",\"type\":\"CDSView\"},{\"attributes\":{\"formatter\":{\"id\":\"d68f6d7a-8cb7-4c66-8912-9e3ec4bdc757\",\"type\":\"BasicTickFormatter\"},\"plot\":{\"id\":\"ffe0a4c5-a770-497f-8074-95e46d7f0c9f\",\"subtype\":\"Figure\",\"type\":\"Plot\"},\"ticker\":{\"id\":\"8c5c8393-9432-45c6-855a-fff226809516\",\"type\":\"BasicTicker\"}},\"id\":\"541652bb-3750-4b6b-8d80-48cdf30f4164\",\"type\":\"LinearAxis\"},{\"attributes\":{\"fill_color\":{\"value\":\"#1f77b4\"},\"line_color\":{\"value\":\"#1f77b4\"},\"top\":{\"field\":\"counts\"},\"width\":{\"value\":0.9},\"x\":{\"field\":\"x\"}},\"id\":\"f91a8e08-b223-4f1b-8395-8986f12c96a8\",\"type\":\"VBar\"},{\"attributes\":{},\"id\":\"0b7e99f6-0b79-44a6-a120-1fe478fa7d0d\",\"type\":\"CategoricalTicker\"}],\"root_ids\":[\"ffe0a4c5-a770-497f-8074-95e46d7f0c9f\"]},\"title\":\"Bokeh Application\",\"version\":\"0.12.16\"}};\n",
       "  var render_items = [{\"docid\":\"7d2b4d85-0d00-4b70-b171-d10fa6470d20\",\"elementid\":\"39468961-a44f-4fd8-9738-3bd1a87473ef\",\"modelid\":\"ffe0a4c5-a770-497f-8074-95e46d7f0c9f\"}];\n",
       "  root.Bokeh.embed.embed_items_notebook(docs_json, render_items);\n",
       "\n",
       "  }\n",
       "  if (root.Bokeh !== undefined) {\n",
       "    embed_document(root);\n",
       "  } else {\n",
       "    var attempts = 0;\n",
       "    var timer = setInterval(function(root) {\n",
       "      if (root.Bokeh !== undefined) {\n",
       "        embed_document(root);\n",
       "        clearInterval(timer);\n",
       "      }\n",
       "      attempts++;\n",
       "      if (attempts > 100) {\n",
       "        console.log(\"Bokeh: ERROR: Unable to run BokehJS code because BokehJS library is missing\")\n",
       "        clearInterval(timer);\n",
       "      }\n",
       "    }, 10, root)\n",
       "  }\n",
       "})(window);"
      ],
      "application/vnd.bokehjs_exec.v0+json": ""
     },
     "metadata": {
      "application/vnd.bokehjs_exec.v0+json": {
       "id": "ffe0a4c5-a770-497f-8074-95e46d7f0c9f"
      }
     },
     "output_type": "display_data"
    }
   ],
   "source": [
    "from bokeh.models import FactorRange\n",
    "import math\n",
    "\n",
    "\n",
    "parties = ['Democrat', 'Republican', 'Independent']\n",
    "\n",
    "data = {'chambers' : chambers,\n",
    "        'Democrat'   : [president_demo,math.log(house_demo,2),math.log(senate_demo,2)],\n",
    "        'Republican'   : [president_repu,math.log(house_repu,2),math.log(senate_repu,2)],\n",
    "        'Independent'   : [president_indi,math.log(house_indi,2),math.log(senate_indi,2)]}\n",
    "\n",
    "x = [ (chamber, party) for chamber in chambers for party in parties ]\n",
    "counts = sum(zip(data['Democrat'], data['Republican'], data['Independent']), ()) # like an hstack\n",
    "\n",
    "source = ColumnDataSource(data=dict(x=x, counts=counts))\n",
    "\n",
    "p = figure(x_range=FactorRange(*x), plot_height=500, title=\"Chamber Counts by Parites\")\n",
    "\n",
    "p.vbar(x='x', top='counts', width=0.9, source=source)\n",
    "\n",
    "p.y_range.start = 0\n",
    "p.x_range.range_padding = 0.1\n",
    "p.xaxis.major_label_orientation = 1\n",
    "p.xgrid.grid_line_color = None\n",
    "\n",
    "show(p)"
   ]
  },
  {
   "cell_type": "code",
   "execution_count": 9,
   "metadata": {},
   "outputs": [
    {
     "data": {
      "text/html": [
       "\n",
       "<div class=\"bk-root\">\n",
       "    <div class=\"bk-plotdiv\" id=\"3ef0819d-7521-4032-96c1-7e2e68c79b81\"></div>\n",
       "</div>"
      ]
     },
     "metadata": {},
     "output_type": "display_data"
    },
    {
     "data": {
      "application/javascript": [
       "(function(root) {\n",
       "  function embed_document(root) {\n",
       "    \n",
       "  var docs_json = {\"f206c80e-f78e-4849-9d8a-9131c26098a6\":{\"roots\":{\"references\":[{\"attributes\":{},\"id\":\"72282246-25bd-45cf-9aac-0eb43172483d\",\"type\":\"BasicTickFormatter\"},{\"attributes\":{\"active_drag\":\"auto\",\"active_inspect\":\"auto\",\"active_scroll\":\"auto\",\"active_tap\":\"auto\",\"tools\":[{\"id\":\"a5f8cc1a-8908-46f6-85c8-1c30fcb7a42b\",\"type\":\"PanTool\"},{\"id\":\"c6e24e76-9ec1-42e7-b968-c2c7671d050e\",\"type\":\"WheelZoomTool\"},{\"id\":\"de262e1f-47aa-4f4d-8159-ab3cf06951f5\",\"type\":\"BoxZoomTool\"},{\"id\":\"9632e94d-8404-48b7-8cf3-cf59bb6382fb\",\"type\":\"SaveTool\"},{\"id\":\"3870e53b-abba-4eea-b187-eb4bce85bb0a\",\"type\":\"ResetTool\"},{\"id\":\"af2e2e4c-c79c-4767-9270-66f0fb1dadee\",\"type\":\"HelpTool\"}]},\"id\":\"66ad5411-89ca-4164-9d82-18e870926f50\",\"type\":\"Toolbar\"},{\"attributes\":{},\"id\":\"c6e24e76-9ec1-42e7-b968-c2c7671d050e\",\"type\":\"WheelZoomTool\"},{\"attributes\":{},\"id\":\"3870e53b-abba-4eea-b187-eb4bce85bb0a\",\"type\":\"ResetTool\"},{\"attributes\":{},\"id\":\"b9ceefa5-f2df-4883-af07-1c7a738324cf\",\"type\":\"LinearScale\"},{\"attributes\":{},\"id\":\"af2e2e4c-c79c-4767-9270-66f0fb1dadee\",\"type\":\"HelpTool\"},{\"attributes\":{\"plot\":null,\"text\":\"Democrat members in House\"},\"id\":\"f43142c0-0b5d-4d4b-81bc-e8ef23c7c896\",\"type\":\"Title\"},{\"attributes\":{\"line_color\":\"#1f77b4\",\"line_width\":2,\"x\":{\"field\":\"x\"},\"y\":{\"field\":\"y\"}},\"id\":\"f2588cc5-5a1a-4980-a56b-4f5a25bb774a\",\"type\":\"Line\"},{\"attributes\":{\"callback\":null},\"id\":\"138a83f7-0468-4b7f-9a15-652864f72ccd\",\"type\":\"DataRange1d\"},{\"attributes\":{},\"id\":\"226d1437-0df3-44f3-b045-888e962536ee\",\"type\":\"UnionRenderers\"},{\"attributes\":{\"data_source\":{\"id\":\"0a978b30-9e53-49b7-847a-f6b106eff2a7\",\"type\":\"ColumnDataSource\"},\"glyph\":{\"id\":\"f2588cc5-5a1a-4980-a56b-4f5a25bb774a\",\"type\":\"Line\"},\"hover_glyph\":null,\"muted_glyph\":null,\"nonselection_glyph\":{\"id\":\"ae51c796-4710-49f2-a770-62bb29e634f0\",\"type\":\"Line\"},\"selection_glyph\":null,\"view\":{\"id\":\"25650798-f06b-4a71-ab0c-317609d00881\",\"type\":\"CDSView\"}},\"id\":\"980aa18c-118f-4b55-9ab5-abee30f80af7\",\"type\":\"GlyphRenderer\"},{\"attributes\":{\"plot\":{\"id\":\"2fa6981b-f8d7-4218-9820-006b4417e744\",\"subtype\":\"Figure\",\"type\":\"Plot\"},\"ticker\":{\"id\":\"b45f20a2-e27f-4dfe-aec1-0622df3fd6b3\",\"type\":\"BasicTicker\"}},\"id\":\"8b66938d-aed0-4455-9757-65b0fd4a631d\",\"type\":\"Grid\"},{\"attributes\":{\"formatter\":{\"id\":\"72282246-25bd-45cf-9aac-0eb43172483d\",\"type\":\"BasicTickFormatter\"},\"plot\":{\"id\":\"2fa6981b-f8d7-4218-9820-006b4417e744\",\"subtype\":\"Figure\",\"type\":\"Plot\"},\"ticker\":{\"id\":\"b45f20a2-e27f-4dfe-aec1-0622df3fd6b3\",\"type\":\"BasicTicker\"}},\"id\":\"335a9b48-3e2e-4387-a146-ee4aa282eb20\",\"type\":\"LinearAxis\"},{\"attributes\":{},\"id\":\"5a2e483c-4317-4a47-8bed-f741ea5bb933\",\"type\":\"LinearScale\"},{\"attributes\":{\"formatter\":{\"id\":\"157c9ac2-56d1-4ca5-b067-890e17c073cb\",\"type\":\"BasicTickFormatter\"},\"plot\":{\"id\":\"2fa6981b-f8d7-4218-9820-006b4417e744\",\"subtype\":\"Figure\",\"type\":\"Plot\"},\"ticker\":{\"id\":\"ec2111b2-a022-4f6b-9bd0-0cb5dea7f0c4\",\"type\":\"BasicTicker\"}},\"id\":\"0c76bf06-6a72-456b-a6df-01ba09b1199e\",\"type\":\"LinearAxis\"},{\"attributes\":{},\"id\":\"157c9ac2-56d1-4ca5-b067-890e17c073cb\",\"type\":\"BasicTickFormatter\"},{\"attributes\":{\"source\":{\"id\":\"0a978b30-9e53-49b7-847a-f6b106eff2a7\",\"type\":\"ColumnDataSource\"}},\"id\":\"25650798-f06b-4a71-ab0c-317609d00881\",\"type\":\"CDSView\"},{\"attributes\":{},\"id\":\"ec2111b2-a022-4f6b-9bd0-0cb5dea7f0c4\",\"type\":\"BasicTicker\"},{\"attributes\":{\"callback\":null},\"id\":\"ece95c14-fbc6-4562-8f74-60e4aca90ac9\",\"type\":\"DataRange1d\"},{\"attributes\":{\"dimension\":1,\"plot\":{\"id\":\"2fa6981b-f8d7-4218-9820-006b4417e744\",\"subtype\":\"Figure\",\"type\":\"Plot\"},\"ticker\":{\"id\":\"ec2111b2-a022-4f6b-9bd0-0cb5dea7f0c4\",\"type\":\"BasicTicker\"}},\"id\":\"0df9861e-218f-41b2-87d3-1fd1d464a2eb\",\"type\":\"Grid\"},{\"attributes\":{\"callback\":null,\"data\":{\"x\":[95,96,97,98,99,100,101,102,103,104,105,106,107,108,109,110,111,112,113,114,115],\"y\":[294,281,247,272,257,262,265,270,261,208,212,213,214,208,203,242,263,200,204,190,196]},\"selected\":{\"id\":\"3eef9fce-b207-41cf-abb7-3e58b84f5a6b\",\"type\":\"Selection\"},\"selection_policy\":{\"id\":\"226d1437-0df3-44f3-b045-888e962536ee\",\"type\":\"UnionRenderers\"}},\"id\":\"0a978b30-9e53-49b7-847a-f6b106eff2a7\",\"type\":\"ColumnDataSource\"},{\"attributes\":{},\"id\":\"b45f20a2-e27f-4dfe-aec1-0622df3fd6b3\",\"type\":\"BasicTicker\"},{\"attributes\":{\"line_alpha\":0.1,\"line_color\":\"#1f77b4\",\"line_width\":2,\"x\":{\"field\":\"x\"},\"y\":{\"field\":\"y\"}},\"id\":\"ae51c796-4710-49f2-a770-62bb29e634f0\",\"type\":\"Line\"},{\"attributes\":{\"bottom_units\":\"screen\",\"fill_alpha\":{\"value\":0.5},\"fill_color\":{\"value\":\"lightgrey\"},\"left_units\":\"screen\",\"level\":\"overlay\",\"line_alpha\":{\"value\":1.0},\"line_color\":{\"value\":\"black\"},\"line_dash\":[4,4],\"line_width\":{\"value\":2},\"plot\":null,\"render_mode\":\"css\",\"right_units\":\"screen\",\"top_units\":\"screen\"},\"id\":\"0d0c3acf-3a04-4669-8a3f-a28d8f364972\",\"type\":\"BoxAnnotation\"},{\"attributes\":{},\"id\":\"9632e94d-8404-48b7-8cf3-cf59bb6382fb\",\"type\":\"SaveTool\"},{\"attributes\":{\"below\":[{\"id\":\"335a9b48-3e2e-4387-a146-ee4aa282eb20\",\"type\":\"LinearAxis\"}],\"left\":[{\"id\":\"0c76bf06-6a72-456b-a6df-01ba09b1199e\",\"type\":\"LinearAxis\"}],\"plot_height\":400,\"plot_width\":400,\"renderers\":[{\"id\":\"335a9b48-3e2e-4387-a146-ee4aa282eb20\",\"type\":\"LinearAxis\"},{\"id\":\"8b66938d-aed0-4455-9757-65b0fd4a631d\",\"type\":\"Grid\"},{\"id\":\"0c76bf06-6a72-456b-a6df-01ba09b1199e\",\"type\":\"LinearAxis\"},{\"id\":\"0df9861e-218f-41b2-87d3-1fd1d464a2eb\",\"type\":\"Grid\"},{\"id\":\"0d0c3acf-3a04-4669-8a3f-a28d8f364972\",\"type\":\"BoxAnnotation\"},{\"id\":\"980aa18c-118f-4b55-9ab5-abee30f80af7\",\"type\":\"GlyphRenderer\"}],\"title\":{\"id\":\"f43142c0-0b5d-4d4b-81bc-e8ef23c7c896\",\"type\":\"Title\"},\"toolbar\":{\"id\":\"66ad5411-89ca-4164-9d82-18e870926f50\",\"type\":\"Toolbar\"},\"x_range\":{\"id\":\"ece95c14-fbc6-4562-8f74-60e4aca90ac9\",\"type\":\"DataRange1d\"},\"x_scale\":{\"id\":\"b9ceefa5-f2df-4883-af07-1c7a738324cf\",\"type\":\"LinearScale\"},\"y_range\":{\"id\":\"138a83f7-0468-4b7f-9a15-652864f72ccd\",\"type\":\"DataRange1d\"},\"y_scale\":{\"id\":\"5a2e483c-4317-4a47-8bed-f741ea5bb933\",\"type\":\"LinearScale\"}},\"id\":\"2fa6981b-f8d7-4218-9820-006b4417e744\",\"subtype\":\"Figure\",\"type\":\"Plot\"},{\"attributes\":{},\"id\":\"a5f8cc1a-8908-46f6-85c8-1c30fcb7a42b\",\"type\":\"PanTool\"},{\"attributes\":{},\"id\":\"3eef9fce-b207-41cf-abb7-3e58b84f5a6b\",\"type\":\"Selection\"},{\"attributes\":{\"overlay\":{\"id\":\"0d0c3acf-3a04-4669-8a3f-a28d8f364972\",\"type\":\"BoxAnnotation\"}},\"id\":\"de262e1f-47aa-4f4d-8159-ab3cf06951f5\",\"type\":\"BoxZoomTool\"}],\"root_ids\":[\"2fa6981b-f8d7-4218-9820-006b4417e744\"]},\"title\":\"Bokeh Application\",\"version\":\"0.12.16\"}};\n",
       "  var render_items = [{\"docid\":\"f206c80e-f78e-4849-9d8a-9131c26098a6\",\"elementid\":\"3ef0819d-7521-4032-96c1-7e2e68c79b81\",\"modelid\":\"2fa6981b-f8d7-4218-9820-006b4417e744\"}];\n",
       "  root.Bokeh.embed.embed_items_notebook(docs_json, render_items);\n",
       "\n",
       "  }\n",
       "  if (root.Bokeh !== undefined) {\n",
       "    embed_document(root);\n",
       "  } else {\n",
       "    var attempts = 0;\n",
       "    var timer = setInterval(function(root) {\n",
       "      if (root.Bokeh !== undefined) {\n",
       "        embed_document(root);\n",
       "        clearInterval(timer);\n",
       "      }\n",
       "      attempts++;\n",
       "      if (attempts > 100) {\n",
       "        console.log(\"Bokeh: ERROR: Unable to run BokehJS code because BokehJS library is missing\")\n",
       "        clearInterval(timer);\n",
       "      }\n",
       "    }, 10, root)\n",
       "  }\n",
       "})(window);"
      ],
      "application/vnd.bokehjs_exec.v0+json": ""
     },
     "metadata": {
      "application/vnd.bokehjs_exec.v0+json": {
       "id": "2fa6981b-f8d7-4218-9820-006b4417e744"
      }
     },
     "output_type": "display_data"
    }
   ],
   "source": [
    "data= pd.read_csv(\"data/HSall_parties.csv\")\n",
    "list=[]\n",
    "for index,row in data.iterrows():\n",
    "    if row['party_name']=='Democrat' and row['chamber']=='House' :\n",
    "        list.append(row['n_members'])\n",
    "\n",
    "\n",
    "p = figure(plot_width=400, plot_height=400, title=\"Democrat members in House\")\n",
    "\n",
    "\n",
    "p.line(range(95,116), list, line_width=2)\n",
    "\n",
    "show(p) "
   ]
  },
  {
   "cell_type": "code",
   "execution_count": 12,
   "metadata": {},
   "outputs": [
    {
     "data": {
      "text/html": [
       "\n",
       "<div class=\"bk-root\">\n",
       "    <div class=\"bk-plotdiv\" id=\"4167807e-194d-4a5e-80f9-14e456bb47c4\"></div>\n",
       "</div>"
      ]
     },
     "metadata": {},
     "output_type": "display_data"
    },
    {
     "data": {
      "application/javascript": [
       "(function(root) {\n",
       "  function embed_document(root) {\n",
       "    \n",
       "  var docs_json = {\"b359d591-6ffb-43ad-b0e2-1bca303100ac\":{\"roots\":{\"references\":[{\"attributes\":{},\"id\":\"0e30648d-e928-4cbb-9fd7-6430c7a64682\",\"type\":\"PanTool\"},{\"attributes\":{},\"id\":\"fff00c43-9e5c-4ddc-9477-60c8b56c2a02\",\"type\":\"BasicTickFormatter\"},{\"attributes\":{},\"id\":\"0bb2e736-c160-4644-aaa8-bf6a5a99c291\",\"type\":\"ResetTool\"},{\"attributes\":{},\"id\":\"eb3dff89-1583-41fe-9462-153232da3156\",\"type\":\"LinearScale\"},{\"attributes\":{\"plot\":{\"id\":\"1a613b55-8968-4e6a-81f5-149392d9ec78\",\"subtype\":\"Figure\",\"type\":\"Plot\"},\"ticker\":{\"id\":\"4f0a5b9b-eb0d-4771-ad12-704cec555c00\",\"type\":\"BasicTicker\"}},\"id\":\"a969c38d-e0c5-477f-90b3-a8d53ad6ead9\",\"type\":\"Grid\"},{\"attributes\":{\"source\":{\"id\":\"d4430437-99de-4854-b5fd-f8e27b0d61e0\",\"type\":\"ColumnDataSource\"}},\"id\":\"78d849b8-5289-4132-b1e7-58e3070345c5\",\"type\":\"CDSView\"},{\"attributes\":{},\"id\":\"1de022c7-b9b8-4c0b-8e74-877a8d6c8cd2\",\"type\":\"HelpTool\"},{\"attributes\":{\"active_drag\":\"auto\",\"active_inspect\":\"auto\",\"active_scroll\":\"auto\",\"active_tap\":\"auto\",\"tools\":[{\"id\":\"0e30648d-e928-4cbb-9fd7-6430c7a64682\",\"type\":\"PanTool\"},{\"id\":\"3ae6ba4f-353e-4b3f-aa6f-02bb9a66b252\",\"type\":\"WheelZoomTool\"},{\"id\":\"282e313b-a384-468f-9b1d-f3df3a87c36d\",\"type\":\"BoxZoomTool\"},{\"id\":\"074f56ef-ca4a-49fa-938d-b0961b69fac5\",\"type\":\"SaveTool\"},{\"id\":\"0bb2e736-c160-4644-aaa8-bf6a5a99c291\",\"type\":\"ResetTool\"},{\"id\":\"1de022c7-b9b8-4c0b-8e74-877a8d6c8cd2\",\"type\":\"HelpTool\"}]},\"id\":\"de516c46-9c47-45ba-82ed-ba137191de6d\",\"type\":\"Toolbar\"},{\"attributes\":{},\"id\":\"ad28712d-3142-4782-9575-7ca91b04deb5\",\"type\":\"LinearScale\"},{\"attributes\":{\"callback\":null},\"id\":\"eb974393-af0d-43aa-8e10-eab0d1b09211\",\"type\":\"DataRange1d\"},{\"attributes\":{\"data_source\":{\"id\":\"d4430437-99de-4854-b5fd-f8e27b0d61e0\",\"type\":\"ColumnDataSource\"},\"glyph\":{\"id\":\"3aac33f8-7e51-4ae4-b29a-760fb9f1db0c\",\"type\":\"Line\"},\"hover_glyph\":null,\"muted_glyph\":null,\"nonselection_glyph\":{\"id\":\"0af87723-c115-4e6a-9c7e-a08d72ddfc68\",\"type\":\"Line\"},\"selection_glyph\":null,\"view\":{\"id\":\"78d849b8-5289-4132-b1e7-58e3070345c5\",\"type\":\"CDSView\"}},\"id\":\"289bc069-6570-45b3-af3f-eaadcba6e9fd\",\"type\":\"GlyphRenderer\"},{\"attributes\":{},\"id\":\"074f56ef-ca4a-49fa-938d-b0961b69fac5\",\"type\":\"SaveTool\"},{\"attributes\":{\"callback\":null,\"data\":{\"x\":[95,96,97,98,99,100,101,102,103,104,105,106,107,108,109,110,111,112,113,114,115],\"y\":[147,161,196,168,182,179,180,170,180,236,231,225,228,231,236,206,183,245,240,251,249]},\"selected\":{\"id\":\"d462a5b7-514d-4a3a-8a3e-3d0d724f9ea4\",\"type\":\"Selection\"},\"selection_policy\":{\"id\":\"d36bc288-bacd-4e9e-bc35-1d92da674344\",\"type\":\"UnionRenderers\"}},\"id\":\"d4430437-99de-4854-b5fd-f8e27b0d61e0\",\"type\":\"ColumnDataSource\"},{\"attributes\":{\"dimension\":1,\"plot\":{\"id\":\"1a613b55-8968-4e6a-81f5-149392d9ec78\",\"subtype\":\"Figure\",\"type\":\"Plot\"},\"ticker\":{\"id\":\"4e31b9f9-7113-46a3-b237-268ec78a86fc\",\"type\":\"BasicTicker\"}},\"id\":\"0455dc95-d495-41a6-bd05-83389abf391e\",\"type\":\"Grid\"},{\"attributes\":{\"bottom_units\":\"screen\",\"fill_alpha\":{\"value\":0.5},\"fill_color\":{\"value\":\"lightgrey\"},\"left_units\":\"screen\",\"level\":\"overlay\",\"line_alpha\":{\"value\":1.0},\"line_color\":{\"value\":\"black\"},\"line_dash\":[4,4],\"line_width\":{\"value\":2},\"plot\":null,\"render_mode\":\"css\",\"right_units\":\"screen\",\"top_units\":\"screen\"},\"id\":\"59a98f2e-df03-49a2-af35-2fa2f9e20233\",\"type\":\"BoxAnnotation\"},{\"attributes\":{},\"id\":\"4e31b9f9-7113-46a3-b237-268ec78a86fc\",\"type\":\"BasicTicker\"},{\"attributes\":{},\"id\":\"d36bc288-bacd-4e9e-bc35-1d92da674344\",\"type\":\"UnionRenderers\"},{\"attributes\":{\"callback\":null},\"id\":\"5d6e4aed-e0ba-43a1-9a6a-50cc849889a6\",\"type\":\"DataRange1d\"},{\"attributes\":{},\"id\":\"590cb284-2679-4560-80ce-1e19972a6d70\",\"type\":\"BasicTickFormatter\"},{\"attributes\":{\"below\":[{\"id\":\"98698816-53ff-4e00-8706-c5db91f42086\",\"type\":\"LinearAxis\"}],\"left\":[{\"id\":\"897bfd27-c6fd-4ace-bae1-c38c5e1641e9\",\"type\":\"LinearAxis\"}],\"plot_height\":400,\"plot_width\":400,\"renderers\":[{\"id\":\"98698816-53ff-4e00-8706-c5db91f42086\",\"type\":\"LinearAxis\"},{\"id\":\"a969c38d-e0c5-477f-90b3-a8d53ad6ead9\",\"type\":\"Grid\"},{\"id\":\"897bfd27-c6fd-4ace-bae1-c38c5e1641e9\",\"type\":\"LinearAxis\"},{\"id\":\"0455dc95-d495-41a6-bd05-83389abf391e\",\"type\":\"Grid\"},{\"id\":\"59a98f2e-df03-49a2-af35-2fa2f9e20233\",\"type\":\"BoxAnnotation\"},{\"id\":\"289bc069-6570-45b3-af3f-eaadcba6e9fd\",\"type\":\"GlyphRenderer\"}],\"title\":{\"id\":\"4eca83a7-a362-40e1-8dc3-a77a97ff9ffc\",\"type\":\"Title\"},\"toolbar\":{\"id\":\"de516c46-9c47-45ba-82ed-ba137191de6d\",\"type\":\"Toolbar\"},\"x_range\":{\"id\":\"eb974393-af0d-43aa-8e10-eab0d1b09211\",\"type\":\"DataRange1d\"},\"x_scale\":{\"id\":\"eb3dff89-1583-41fe-9462-153232da3156\",\"type\":\"LinearScale\"},\"y_range\":{\"id\":\"5d6e4aed-e0ba-43a1-9a6a-50cc849889a6\",\"type\":\"DataRange1d\"},\"y_scale\":{\"id\":\"ad28712d-3142-4782-9575-7ca91b04deb5\",\"type\":\"LinearScale\"}},\"id\":\"1a613b55-8968-4e6a-81f5-149392d9ec78\",\"subtype\":\"Figure\",\"type\":\"Plot\"},{\"attributes\":{\"formatter\":{\"id\":\"fff00c43-9e5c-4ddc-9477-60c8b56c2a02\",\"type\":\"BasicTickFormatter\"},\"plot\":{\"id\":\"1a613b55-8968-4e6a-81f5-149392d9ec78\",\"subtype\":\"Figure\",\"type\":\"Plot\"},\"ticker\":{\"id\":\"4f0a5b9b-eb0d-4771-ad12-704cec555c00\",\"type\":\"BasicTicker\"}},\"id\":\"98698816-53ff-4e00-8706-c5db91f42086\",\"type\":\"LinearAxis\"},{\"attributes\":{\"line_color\":\"#1f77b4\",\"line_width\":2,\"x\":{\"field\":\"x\"},\"y\":{\"field\":\"y\"}},\"id\":\"3aac33f8-7e51-4ae4-b29a-760fb9f1db0c\",\"type\":\"Line\"},{\"attributes\":{},\"id\":\"4f0a5b9b-eb0d-4771-ad12-704cec555c00\",\"type\":\"BasicTicker\"},{\"attributes\":{},\"id\":\"d462a5b7-514d-4a3a-8a3e-3d0d724f9ea4\",\"type\":\"Selection\"},{\"attributes\":{\"line_alpha\":0.1,\"line_color\":\"#1f77b4\",\"line_width\":2,\"x\":{\"field\":\"x\"},\"y\":{\"field\":\"y\"}},\"id\":\"0af87723-c115-4e6a-9c7e-a08d72ddfc68\",\"type\":\"Line\"},{\"attributes\":{\"plot\":null,\"text\":\"Republican members in House\"},\"id\":\"4eca83a7-a362-40e1-8dc3-a77a97ff9ffc\",\"type\":\"Title\"},{\"attributes\":{\"overlay\":{\"id\":\"59a98f2e-df03-49a2-af35-2fa2f9e20233\",\"type\":\"BoxAnnotation\"}},\"id\":\"282e313b-a384-468f-9b1d-f3df3a87c36d\",\"type\":\"BoxZoomTool\"},{\"attributes\":{},\"id\":\"3ae6ba4f-353e-4b3f-aa6f-02bb9a66b252\",\"type\":\"WheelZoomTool\"},{\"attributes\":{\"formatter\":{\"id\":\"590cb284-2679-4560-80ce-1e19972a6d70\",\"type\":\"BasicTickFormatter\"},\"plot\":{\"id\":\"1a613b55-8968-4e6a-81f5-149392d9ec78\",\"subtype\":\"Figure\",\"type\":\"Plot\"},\"ticker\":{\"id\":\"4e31b9f9-7113-46a3-b237-268ec78a86fc\",\"type\":\"BasicTicker\"}},\"id\":\"897bfd27-c6fd-4ace-bae1-c38c5e1641e9\",\"type\":\"LinearAxis\"}],\"root_ids\":[\"1a613b55-8968-4e6a-81f5-149392d9ec78\"]},\"title\":\"Bokeh Application\",\"version\":\"0.12.16\"}};\n",
       "  var render_items = [{\"docid\":\"b359d591-6ffb-43ad-b0e2-1bca303100ac\",\"elementid\":\"4167807e-194d-4a5e-80f9-14e456bb47c4\",\"modelid\":\"1a613b55-8968-4e6a-81f5-149392d9ec78\"}];\n",
       "  root.Bokeh.embed.embed_items_notebook(docs_json, render_items);\n",
       "\n",
       "  }\n",
       "  if (root.Bokeh !== undefined) {\n",
       "    embed_document(root);\n",
       "  } else {\n",
       "    var attempts = 0;\n",
       "    var timer = setInterval(function(root) {\n",
       "      if (root.Bokeh !== undefined) {\n",
       "        embed_document(root);\n",
       "        clearInterval(timer);\n",
       "      }\n",
       "      attempts++;\n",
       "      if (attempts > 100) {\n",
       "        console.log(\"Bokeh: ERROR: Unable to run BokehJS code because BokehJS library is missing\")\n",
       "        clearInterval(timer);\n",
       "      }\n",
       "    }, 10, root)\n",
       "  }\n",
       "})(window);"
      ],
      "application/vnd.bokehjs_exec.v0+json": ""
     },
     "metadata": {
      "application/vnd.bokehjs_exec.v0+json": {
       "id": "1a613b55-8968-4e6a-81f5-149392d9ec78"
      }
     },
     "output_type": "display_data"
    }
   ],
   "source": [
    "list=[]\n",
    "for index,row in data.iterrows():\n",
    "    if row['party_name']=='Republican' and row['chamber']=='House' :\n",
    "        list.append(row['n_members'])\n",
    "\n",
    "\n",
    "p = figure(plot_width=400, plot_height=400, title=\"Republican members in House\")\n",
    "\n",
    "\n",
    "p.line(range(95,116), list, line_width=2)\n",
    "\n",
    "show(p) "
   ]
  },
  {
   "cell_type": "code",
   "execution_count": 20,
   "metadata": {},
   "outputs": [
    {
     "data": {
      "text/html": [
       "\n",
       "<div class=\"bk-root\">\n",
       "    <div class=\"bk-plotdiv\" id=\"938fdb38-5cab-460e-a95a-fc7434dfd251\"></div>\n",
       "</div>"
      ]
     },
     "metadata": {},
     "output_type": "display_data"
    },
    {
     "data": {
      "application/javascript": [
       "(function(root) {\n",
       "  function embed_document(root) {\n",
       "    \n",
       "  var docs_json = {\"478bf305-1639-41f3-b0cc-60ba04090ce2\":{\"roots\":{\"references\":[{\"attributes\":{},\"id\":\"0dce3229-28ad-4e7f-8573-d6335d9f9d83\",\"type\":\"BasicTicker\"},{\"attributes\":{},\"id\":\"0959625f-09ea-4f5f-ad93-e5967a439162\",\"type\":\"UnionRenderers\"},{\"attributes\":{\"data_source\":{\"id\":\"4d41d517-d5e3-4662-b70e-ee14bdab61c1\",\"type\":\"ColumnDataSource\"},\"glyph\":{\"id\":\"f6c0cbf1-b050-4f9e-88e1-3432d2eb5aff\",\"type\":\"Circle\"},\"hover_glyph\":null,\"muted_glyph\":null,\"nonselection_glyph\":{\"id\":\"930bac7d-3231-470d-8598-658bc01cbdd0\",\"type\":\"Circle\"},\"selection_glyph\":null,\"view\":{\"id\":\"4116f46b-b470-4db3-8529-d24755013c05\",\"type\":\"CDSView\"}},\"id\":\"dbb5f517-6040-4471-bf10-3084763c7dcd\",\"type\":\"GlyphRenderer\"},{\"attributes\":{\"callback\":null},\"id\":\"62ce48da-7395-4daf-9ba8-ad8455cad4d1\",\"type\":\"DataRange1d\"},{\"attributes\":{\"source\":{\"id\":\"4d41d517-d5e3-4662-b70e-ee14bdab61c1\",\"type\":\"ColumnDataSource\"}},\"id\":\"4116f46b-b470-4db3-8529-d24755013c05\",\"type\":\"CDSView\"},{\"attributes\":{},\"id\":\"567f7139-cf4d-473a-89dd-e9dbbef7dafd\",\"type\":\"BasicTicker\"},{\"attributes\":{\"fill_alpha\":{\"value\":0.1},\"fill_color\":{\"value\":\"#1f77b4\"},\"line_alpha\":{\"value\":0.1},\"line_color\":{\"value\":\"#1f77b4\"},\"size\":{\"units\":\"screen\",\"value\":10},\"x\":{\"field\":\"x\"},\"y\":{\"field\":\"y\"}},\"id\":\"930bac7d-3231-470d-8598-658bc01cbdd0\",\"type\":\"Circle\"},{\"attributes\":{\"formatter\":{\"id\":\"bf43471c-5712-451e-b92c-37c4c5e22ca5\",\"type\":\"BasicTickFormatter\"},\"plot\":{\"id\":\"158aaa6c-14ff-41f3-aa16-b4bbd0ef7bb7\",\"subtype\":\"Figure\",\"type\":\"Plot\"},\"ticker\":{\"id\":\"567f7139-cf4d-473a-89dd-e9dbbef7dafd\",\"type\":\"BasicTicker\"}},\"id\":\"95b3768d-6fb0-4542-a119-7adb7cfefe63\",\"type\":\"LinearAxis\"},{\"attributes\":{\"below\":[{\"id\":\"e39e63ba-e536-48b5-b662-32d11f286f3f\",\"type\":\"LinearAxis\"}],\"left\":[{\"id\":\"95b3768d-6fb0-4542-a119-7adb7cfefe63\",\"type\":\"LinearAxis\"}],\"plot_height\":400,\"plot_width\":400,\"renderers\":[{\"id\":\"e39e63ba-e536-48b5-b662-32d11f286f3f\",\"type\":\"LinearAxis\"},{\"id\":\"1c9f5adf-6638-45dd-bbbc-78ff0b2be2ce\",\"type\":\"Grid\"},{\"id\":\"95b3768d-6fb0-4542-a119-7adb7cfefe63\",\"type\":\"LinearAxis\"},{\"id\":\"db21808b-bf91-4bc2-a6b2-6c8df301a0e2\",\"type\":\"Grid\"},{\"id\":\"3bc0c10a-bcce-46b7-8b1c-d3b7900d1cee\",\"type\":\"BoxAnnotation\"},{\"id\":\"dbb5f517-6040-4471-bf10-3084763c7dcd\",\"type\":\"GlyphRenderer\"}],\"title\":{\"id\":\"b338676a-a22e-4e79-bbe9-20cd58541bdf\",\"type\":\"Title\"},\"toolbar\":{\"id\":\"93e92119-91d7-4689-aae3-a1d89cf30860\",\"type\":\"Toolbar\"},\"x_range\":{\"id\":\"3de7b7d3-52a0-47b3-916b-b2a6edd08a9c\",\"type\":\"DataRange1d\"},\"x_scale\":{\"id\":\"3669ae14-0bd4-4a5d-92cd-add3628131b1\",\"type\":\"LinearScale\"},\"y_range\":{\"id\":\"62ce48da-7395-4daf-9ba8-ad8455cad4d1\",\"type\":\"DataRange1d\"},\"y_scale\":{\"id\":\"8891326b-e97a-4887-a572-c2896856554e\",\"type\":\"LinearScale\"}},\"id\":\"158aaa6c-14ff-41f3-aa16-b4bbd0ef7bb7\",\"subtype\":\"Figure\",\"type\":\"Plot\"},{\"attributes\":{\"bottom_units\":\"screen\",\"fill_alpha\":{\"value\":0.5},\"fill_color\":{\"value\":\"lightgrey\"},\"left_units\":\"screen\",\"level\":\"overlay\",\"line_alpha\":{\"value\":1.0},\"line_color\":{\"value\":\"black\"},\"line_dash\":[4,4],\"line_width\":{\"value\":2},\"plot\":null,\"render_mode\":\"css\",\"right_units\":\"screen\",\"top_units\":\"screen\"},\"id\":\"3bc0c10a-bcce-46b7-8b1c-d3b7900d1cee\",\"type\":\"BoxAnnotation\"},{\"attributes\":{\"plot\":{\"id\":\"158aaa6c-14ff-41f3-aa16-b4bbd0ef7bb7\",\"subtype\":\"Figure\",\"type\":\"Plot\"},\"ticker\":{\"id\":\"0dce3229-28ad-4e7f-8573-d6335d9f9d83\",\"type\":\"BasicTicker\"}},\"id\":\"1c9f5adf-6638-45dd-bbbc-78ff0b2be2ce\",\"type\":\"Grid\"},{\"attributes\":{\"active_drag\":\"auto\",\"active_inspect\":\"auto\",\"active_scroll\":\"auto\",\"active_tap\":\"auto\",\"tools\":[{\"id\":\"eb7bea50-996f-4386-be72-988e4487b327\",\"type\":\"PanTool\"},{\"id\":\"3060f022-2c02-4712-8a0d-cf7834106d26\",\"type\":\"WheelZoomTool\"},{\"id\":\"baa83d55-2b5b-40dc-ad1a-9692a00e68d1\",\"type\":\"BoxZoomTool\"},{\"id\":\"1169e034-9dc4-4c05-bb03-ff3654fead18\",\"type\":\"SaveTool\"},{\"id\":\"f9bcbddd-bc3b-48fe-9e3c-0ffb98eb1742\",\"type\":\"ResetTool\"},{\"id\":\"c283761e-f2eb-4d6e-9466-3308c1bb9790\",\"type\":\"HelpTool\"}]},\"id\":\"93e92119-91d7-4689-aae3-a1d89cf30860\",\"type\":\"Toolbar\"},{\"attributes\":{},\"id\":\"eb7bea50-996f-4386-be72-988e4487b327\",\"type\":\"PanTool\"},{\"attributes\":{\"fill_alpha\":{\"value\":0.5},\"fill_color\":{\"value\":\"blue\"},\"line_color\":{\"value\":\"navy\"},\"size\":{\"units\":\"screen\",\"value\":10},\"x\":{\"field\":\"x\"},\"y\":{\"field\":\"y\"}},\"id\":\"f6c0cbf1-b050-4f9e-88e1-3432d2eb5aff\",\"type\":\"Circle\"},{\"attributes\":{},\"id\":\"e04f8cc6-5a5f-4f46-880d-8b39ca277f91\",\"type\":\"Selection\"},{\"attributes\":{},\"id\":\"3060f022-2c02-4712-8a0d-cf7834106d26\",\"type\":\"WheelZoomTool\"},{\"attributes\":{\"callback\":null},\"id\":\"3de7b7d3-52a0-47b3-916b-b2a6edd08a9c\",\"type\":\"DataRange1d\"},{\"attributes\":{\"overlay\":{\"id\":\"3bc0c10a-bcce-46b7-8b1c-d3b7900d1cee\",\"type\":\"BoxAnnotation\"}},\"id\":\"baa83d55-2b5b-40dc-ad1a-9692a00e68d1\",\"type\":\"BoxZoomTool\"},{\"attributes\":{\"callback\":null,\"data\":{\"x\":[95,96,97,98,99,100,101,102,103,104,105,106,107,108,109,110,111,112,113,114,115],\"y\":[65,59,46,46,47,55,56,58,57,48,45,46,50,48,45,50,66,53,57,44,48]},\"selected\":{\"id\":\"e04f8cc6-5a5f-4f46-880d-8b39ca277f91\",\"type\":\"Selection\"},\"selection_policy\":{\"id\":\"0959625f-09ea-4f5f-ad93-e5967a439162\",\"type\":\"UnionRenderers\"}},\"id\":\"4d41d517-d5e3-4662-b70e-ee14bdab61c1\",\"type\":\"ColumnDataSource\"},{\"attributes\":{},\"id\":\"1169e034-9dc4-4c05-bb03-ff3654fead18\",\"type\":\"SaveTool\"},{\"attributes\":{\"dimension\":1,\"plot\":{\"id\":\"158aaa6c-14ff-41f3-aa16-b4bbd0ef7bb7\",\"subtype\":\"Figure\",\"type\":\"Plot\"},\"ticker\":{\"id\":\"567f7139-cf4d-473a-89dd-e9dbbef7dafd\",\"type\":\"BasicTicker\"}},\"id\":\"db21808b-bf91-4bc2-a6b2-6c8df301a0e2\",\"type\":\"Grid\"},{\"attributes\":{},\"id\":\"f9bcbddd-bc3b-48fe-9e3c-0ffb98eb1742\",\"type\":\"ResetTool\"},{\"attributes\":{},\"id\":\"bf43471c-5712-451e-b92c-37c4c5e22ca5\",\"type\":\"BasicTickFormatter\"},{\"attributes\":{},\"id\":\"c283761e-f2eb-4d6e-9466-3308c1bb9790\",\"type\":\"HelpTool\"},{\"attributes\":{\"plot\":null,\"text\":\"Democrat members in Senate\"},\"id\":\"b338676a-a22e-4e79-bbe9-20cd58541bdf\",\"type\":\"Title\"},{\"attributes\":{\"formatter\":{\"id\":\"0249b2b7-a386-444b-996f-5fcf912a0691\",\"type\":\"BasicTickFormatter\"},\"plot\":{\"id\":\"158aaa6c-14ff-41f3-aa16-b4bbd0ef7bb7\",\"subtype\":\"Figure\",\"type\":\"Plot\"},\"ticker\":{\"id\":\"0dce3229-28ad-4e7f-8573-d6335d9f9d83\",\"type\":\"BasicTicker\"}},\"id\":\"e39e63ba-e536-48b5-b662-32d11f286f3f\",\"type\":\"LinearAxis\"},{\"attributes\":{},\"id\":\"8891326b-e97a-4887-a572-c2896856554e\",\"type\":\"LinearScale\"},{\"attributes\":{},\"id\":\"0249b2b7-a386-444b-996f-5fcf912a0691\",\"type\":\"BasicTickFormatter\"},{\"attributes\":{},\"id\":\"3669ae14-0bd4-4a5d-92cd-add3628131b1\",\"type\":\"LinearScale\"}],\"root_ids\":[\"158aaa6c-14ff-41f3-aa16-b4bbd0ef7bb7\"]},\"title\":\"Bokeh Application\",\"version\":\"0.12.16\"}};\n",
       "  var render_items = [{\"docid\":\"478bf305-1639-41f3-b0cc-60ba04090ce2\",\"elementid\":\"938fdb38-5cab-460e-a95a-fc7434dfd251\",\"modelid\":\"158aaa6c-14ff-41f3-aa16-b4bbd0ef7bb7\"}];\n",
       "  root.Bokeh.embed.embed_items_notebook(docs_json, render_items);\n",
       "\n",
       "  }\n",
       "  if (root.Bokeh !== undefined) {\n",
       "    embed_document(root);\n",
       "  } else {\n",
       "    var attempts = 0;\n",
       "    var timer = setInterval(function(root) {\n",
       "      if (root.Bokeh !== undefined) {\n",
       "        embed_document(root);\n",
       "        clearInterval(timer);\n",
       "      }\n",
       "      attempts++;\n",
       "      if (attempts > 100) {\n",
       "        console.log(\"Bokeh: ERROR: Unable to run BokehJS code because BokehJS library is missing\")\n",
       "        clearInterval(timer);\n",
       "      }\n",
       "    }, 10, root)\n",
       "  }\n",
       "})(window);"
      ],
      "application/vnd.bokehjs_exec.v0+json": ""
     },
     "metadata": {
      "application/vnd.bokehjs_exec.v0+json": {
       "id": "158aaa6c-14ff-41f3-aa16-b4bbd0ef7bb7"
      }
     },
     "output_type": "display_data"
    }
   ],
   "source": [
    "list=[]\n",
    "for index,row in data.iterrows():\n",
    "    if row['party_name']=='Democrat' and row['chamber']=='Senate' :\n",
    "        list.append(row['n_members'])\n",
    "p = figure(plot_width=400, plot_height=400,title=\"Democrat members in Senate\")\n",
    "\n",
    "p.circle(range(95,116),list, size=10, line_color=\"navy\", fill_color=\"blue\", fill_alpha=0.5)\n",
    "\n",
    "show(p) "
   ]
  },
  {
   "cell_type": "code",
   "execution_count": 19,
   "metadata": {},
   "outputs": [
    {
     "data": {
      "text/html": [
       "\n",
       "<div class=\"bk-root\">\n",
       "    <div class=\"bk-plotdiv\" id=\"218f3bf5-876d-4a4a-8655-7d5daa219409\"></div>\n",
       "</div>"
      ]
     },
     "metadata": {},
     "output_type": "display_data"
    },
    {
     "data": {
      "application/javascript": [
       "(function(root) {\n",
       "  function embed_document(root) {\n",
       "    \n",
       "  var docs_json = {\"17a1bae5-0435-430f-a6f0-d22cc2aa7797\":{\"roots\":{\"references\":[{\"attributes\":{},\"id\":\"1844b256-c94d-4952-9a0f-402e26fa628c\",\"type\":\"BasicTicker\"},{\"attributes\":{\"formatter\":{\"id\":\"3966c535-55f0-4abf-83a6-fe83f9b5fe9d\",\"type\":\"BasicTickFormatter\"},\"plot\":{\"id\":\"6c03cffb-2654-4e13-8205-d2dbf771c372\",\"subtype\":\"Figure\",\"type\":\"Plot\"},\"ticker\":{\"id\":\"e6a6f13b-c741-45ab-8183-29119de2f938\",\"type\":\"BasicTicker\"}},\"id\":\"78b96f43-f248-4f57-8c15-7c3a1bdb5d15\",\"type\":\"LinearAxis\"},{\"attributes\":{},\"id\":\"d9e2deea-76dd-41ea-9ed3-00ac500665c1\",\"type\":\"Selection\"},{\"attributes\":{},\"id\":\"e6a6f13b-c741-45ab-8183-29119de2f938\",\"type\":\"BasicTicker\"},{\"attributes\":{\"dimension\":1,\"plot\":{\"id\":\"6c03cffb-2654-4e13-8205-d2dbf771c372\",\"subtype\":\"Figure\",\"type\":\"Plot\"},\"ticker\":{\"id\":\"e6a6f13b-c741-45ab-8183-29119de2f938\",\"type\":\"BasicTicker\"}},\"id\":\"0346762b-a00a-4b99-bf62-0ce5749a4e70\",\"type\":\"Grid\"},{\"attributes\":{\"data_source\":{\"id\":\"26390ace-20b8-4258-9e5a-21c1f6954972\",\"type\":\"ColumnDataSource\"},\"glyph\":{\"id\":\"6465468b-3103-418e-86c6-9cf7ef2d6a08\",\"type\":\"Circle\"},\"hover_glyph\":null,\"muted_glyph\":null,\"nonselection_glyph\":{\"id\":\"9fd5081e-a47d-47ac-9600-814e6563e165\",\"type\":\"Circle\"},\"selection_glyph\":null,\"view\":{\"id\":\"53fc582f-b79b-474f-ae90-e6d110f44002\",\"type\":\"CDSView\"}},\"id\":\"83dfe9f4-9208-4bd9-98ef-ab31022577ec\",\"type\":\"GlyphRenderer\"},{\"attributes\":{\"fill_alpha\":{\"value\":0.5},\"fill_color\":{\"value\":\"blue\"},\"line_color\":{\"value\":\"navy\"},\"size\":{\"units\":\"screen\",\"value\":10},\"x\":{\"field\":\"x\"},\"y\":{\"field\":\"y\"}},\"id\":\"6465468b-3103-418e-86c6-9cf7ef2d6a08\",\"type\":\"Circle\"},{\"attributes\":{\"callback\":null},\"id\":\"94482181-9aba-4a71-8aeb-f9c12b48d56c\",\"type\":\"DataRange1d\"},{\"attributes\":{},\"id\":\"faa59274-7436-4938-9909-db3316ae9591\",\"type\":\"UnionRenderers\"},{\"attributes\":{\"bottom_units\":\"screen\",\"fill_alpha\":{\"value\":0.5},\"fill_color\":{\"value\":\"lightgrey\"},\"left_units\":\"screen\",\"level\":\"overlay\",\"line_alpha\":{\"value\":1.0},\"line_color\":{\"value\":\"black\"},\"line_dash\":[4,4],\"line_width\":{\"value\":2},\"plot\":null,\"render_mode\":\"css\",\"right_units\":\"screen\",\"top_units\":\"screen\"},\"id\":\"c1784090-7487-4945-9b82-28f43954ce12\",\"type\":\"BoxAnnotation\"},{\"attributes\":{\"below\":[{\"id\":\"60ec87bc-b919-4b4a-a01f-d1390f038a19\",\"type\":\"LinearAxis\"}],\"left\":[{\"id\":\"78b96f43-f248-4f57-8c15-7c3a1bdb5d15\",\"type\":\"LinearAxis\"}],\"plot_height\":400,\"plot_width\":400,\"renderers\":[{\"id\":\"60ec87bc-b919-4b4a-a01f-d1390f038a19\",\"type\":\"LinearAxis\"},{\"id\":\"49124726-5c37-43bf-b86c-d902831ffb8c\",\"type\":\"Grid\"},{\"id\":\"78b96f43-f248-4f57-8c15-7c3a1bdb5d15\",\"type\":\"LinearAxis\"},{\"id\":\"0346762b-a00a-4b99-bf62-0ce5749a4e70\",\"type\":\"Grid\"},{\"id\":\"c1784090-7487-4945-9b82-28f43954ce12\",\"type\":\"BoxAnnotation\"},{\"id\":\"83dfe9f4-9208-4bd9-98ef-ab31022577ec\",\"type\":\"GlyphRenderer\"}],\"title\":{\"id\":\"e0771511-2082-4d6e-a970-71fdcfe54b81\",\"type\":\"Title\"},\"toolbar\":{\"id\":\"76ede828-998a-4e07-82af-74e0d848f2a6\",\"type\":\"Toolbar\"},\"x_range\":{\"id\":\"94482181-9aba-4a71-8aeb-f9c12b48d56c\",\"type\":\"DataRange1d\"},\"x_scale\":{\"id\":\"3668672f-aea6-468f-9143-7ce85d40d14e\",\"type\":\"LinearScale\"},\"y_range\":{\"id\":\"8a851172-f408-4f7a-a97b-5f151a8d43ca\",\"type\":\"DataRange1d\"},\"y_scale\":{\"id\":\"7c11ea36-b632-459f-b97d-d9611b576a3b\",\"type\":\"LinearScale\"}},\"id\":\"6c03cffb-2654-4e13-8205-d2dbf771c372\",\"subtype\":\"Figure\",\"type\":\"Plot\"},{\"attributes\":{\"callback\":null,\"data\":{\"x\":[95,96,97,98,99,100,101,102,103,104,105,106,107,108,109,110,111,112,113,114,115],\"y\":[38,41,54,55,54,46,46,44,45,55,55,56,50,51,55,51,44,48,46,54,55]},\"selected\":{\"id\":\"d9e2deea-76dd-41ea-9ed3-00ac500665c1\",\"type\":\"Selection\"},\"selection_policy\":{\"id\":\"faa59274-7436-4938-9909-db3316ae9591\",\"type\":\"UnionRenderers\"}},\"id\":\"26390ace-20b8-4258-9e5a-21c1f6954972\",\"type\":\"ColumnDataSource\"},{\"attributes\":{},\"id\":\"f9e74736-0594-4579-bb51-cdab5c2eb980\",\"type\":\"PanTool\"},{\"attributes\":{\"source\":{\"id\":\"26390ace-20b8-4258-9e5a-21c1f6954972\",\"type\":\"ColumnDataSource\"}},\"id\":\"53fc582f-b79b-474f-ae90-e6d110f44002\",\"type\":\"CDSView\"},{\"attributes\":{},\"id\":\"3966c535-55f0-4abf-83a6-fe83f9b5fe9d\",\"type\":\"BasicTickFormatter\"},{\"attributes\":{},\"id\":\"3b86e14e-53fa-4ac7-b23f-f46635ff01a9\",\"type\":\"WheelZoomTool\"},{\"attributes\":{\"overlay\":{\"id\":\"c1784090-7487-4945-9b82-28f43954ce12\",\"type\":\"BoxAnnotation\"}},\"id\":\"4438a782-a857-4b72-a8b2-e691be825bd1\",\"type\":\"BoxZoomTool\"},{\"attributes\":{\"plot\":null,\"text\":\"Republican members in Senate\"},\"id\":\"e0771511-2082-4d6e-a970-71fdcfe54b81\",\"type\":\"Title\"},{\"attributes\":{},\"id\":\"71416581-cc13-471e-9ee3-8b71b55f9ec8\",\"type\":\"SaveTool\"},{\"attributes\":{},\"id\":\"3668672f-aea6-468f-9143-7ce85d40d14e\",\"type\":\"LinearScale\"},{\"attributes\":{},\"id\":\"65833b49-d015-4afb-9ede-d93f19b04677\",\"type\":\"ResetTool\"},{\"attributes\":{\"active_drag\":\"auto\",\"active_inspect\":\"auto\",\"active_scroll\":\"auto\",\"active_tap\":\"auto\",\"tools\":[{\"id\":\"f9e74736-0594-4579-bb51-cdab5c2eb980\",\"type\":\"PanTool\"},{\"id\":\"3b86e14e-53fa-4ac7-b23f-f46635ff01a9\",\"type\":\"WheelZoomTool\"},{\"id\":\"4438a782-a857-4b72-a8b2-e691be825bd1\",\"type\":\"BoxZoomTool\"},{\"id\":\"71416581-cc13-471e-9ee3-8b71b55f9ec8\",\"type\":\"SaveTool\"},{\"id\":\"65833b49-d015-4afb-9ede-d93f19b04677\",\"type\":\"ResetTool\"},{\"id\":\"12b07da7-40f1-4af9-9f37-89837e6d0e06\",\"type\":\"HelpTool\"}]},\"id\":\"76ede828-998a-4e07-82af-74e0d848f2a6\",\"type\":\"Toolbar\"},{\"attributes\":{},\"id\":\"12b07da7-40f1-4af9-9f37-89837e6d0e06\",\"type\":\"HelpTool\"},{\"attributes\":{\"fill_alpha\":{\"value\":0.1},\"fill_color\":{\"value\":\"#1f77b4\"},\"line_alpha\":{\"value\":0.1},\"line_color\":{\"value\":\"#1f77b4\"},\"size\":{\"units\":\"screen\",\"value\":10},\"x\":{\"field\":\"x\"},\"y\":{\"field\":\"y\"}},\"id\":\"9fd5081e-a47d-47ac-9600-814e6563e165\",\"type\":\"Circle\"},{\"attributes\":{\"callback\":null},\"id\":\"8a851172-f408-4f7a-a97b-5f151a8d43ca\",\"type\":\"DataRange1d\"},{\"attributes\":{},\"id\":\"7c11ea36-b632-459f-b97d-d9611b576a3b\",\"type\":\"LinearScale\"},{\"attributes\":{},\"id\":\"7757e155-bf8d-4d97-baea-f3613b54134a\",\"type\":\"BasicTickFormatter\"},{\"attributes\":{\"plot\":{\"id\":\"6c03cffb-2654-4e13-8205-d2dbf771c372\",\"subtype\":\"Figure\",\"type\":\"Plot\"},\"ticker\":{\"id\":\"1844b256-c94d-4952-9a0f-402e26fa628c\",\"type\":\"BasicTicker\"}},\"id\":\"49124726-5c37-43bf-b86c-d902831ffb8c\",\"type\":\"Grid\"},{\"attributes\":{\"formatter\":{\"id\":\"7757e155-bf8d-4d97-baea-f3613b54134a\",\"type\":\"BasicTickFormatter\"},\"plot\":{\"id\":\"6c03cffb-2654-4e13-8205-d2dbf771c372\",\"subtype\":\"Figure\",\"type\":\"Plot\"},\"ticker\":{\"id\":\"1844b256-c94d-4952-9a0f-402e26fa628c\",\"type\":\"BasicTicker\"}},\"id\":\"60ec87bc-b919-4b4a-a01f-d1390f038a19\",\"type\":\"LinearAxis\"}],\"root_ids\":[\"6c03cffb-2654-4e13-8205-d2dbf771c372\"]},\"title\":\"Bokeh Application\",\"version\":\"0.12.16\"}};\n",
       "  var render_items = [{\"docid\":\"17a1bae5-0435-430f-a6f0-d22cc2aa7797\",\"elementid\":\"218f3bf5-876d-4a4a-8655-7d5daa219409\",\"modelid\":\"6c03cffb-2654-4e13-8205-d2dbf771c372\"}];\n",
       "  root.Bokeh.embed.embed_items_notebook(docs_json, render_items);\n",
       "\n",
       "  }\n",
       "  if (root.Bokeh !== undefined) {\n",
       "    embed_document(root);\n",
       "  } else {\n",
       "    var attempts = 0;\n",
       "    var timer = setInterval(function(root) {\n",
       "      if (root.Bokeh !== undefined) {\n",
       "        embed_document(root);\n",
       "        clearInterval(timer);\n",
       "      }\n",
       "      attempts++;\n",
       "      if (attempts > 100) {\n",
       "        console.log(\"Bokeh: ERROR: Unable to run BokehJS code because BokehJS library is missing\")\n",
       "        clearInterval(timer);\n",
       "      }\n",
       "    }, 10, root)\n",
       "  }\n",
       "})(window);"
      ],
      "application/vnd.bokehjs_exec.v0+json": ""
     },
     "metadata": {
      "application/vnd.bokehjs_exec.v0+json": {
       "id": "6c03cffb-2654-4e13-8205-d2dbf771c372"
      }
     },
     "output_type": "display_data"
    }
   ],
   "source": [
    "list=[]\n",
    "for index,row in data.iterrows():\n",
    "    if row['party_name']=='Republican' and row['chamber']=='Senate' :\n",
    "        list.append(row['n_members'])\n",
    "p = figure(plot_width=400, plot_height=400,title=\"Republican members in Senate\")\n",
    "\n",
    "p.circle(range(95,116),list, size=10, line_color=\"navy\", fill_color=\"blue\", fill_alpha=0.5)\n",
    "\n",
    "show(p) "
   ]
  }
 ],
 "metadata": {
  "kernelspec": {
   "display_name": "Python 3",
   "language": "python",
   "name": "python3"
  },
  "language_info": {
   "codemirror_mode": {
    "name": "ipython",
    "version": 3
   },
   "file_extension": ".py",
   "mimetype": "text/x-python",
   "name": "python",
   "nbconvert_exporter": "python",
   "pygments_lexer": "ipython3",
   "version": "3.6.5"
  }
 },
 "nbformat": 4,
 "nbformat_minor": 2
}
